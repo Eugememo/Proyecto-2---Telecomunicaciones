{
 "cells": [
  {
   "cell_type": "markdown",
   "metadata": {},
   "source": [
    "<h1>Extraccion, Transformación y Limpieza de Datos</h1>"
   ]
  },
  {
   "cell_type": "markdown",
   "metadata": {},
   "source": [
    "<h2>Librerías</h2>"
   ]
  },
  {
   "cell_type": "code",
   "execution_count": 513,
   "metadata": {},
   "outputs": [],
   "source": [
    "import pandas as pd"
   ]
  },
  {
   "cell_type": "markdown",
   "metadata": {},
   "source": [
    "<h2>Transformación a CSVs</h2>"
   ]
  },
  {
   "cell_type": "code",
   "execution_count": 514,
   "metadata": {},
   "outputs": [],
   "source": [
    "internet = pd.ExcelFile('../Datasets Originales/Internet.xlsx')"
   ]
  },
  {
   "cell_type": "code",
   "execution_count": 515,
   "metadata": {},
   "outputs": [
    {
     "name": "stdout",
     "output_type": "stream",
     "text": [
      "Hoja Acc_vel_loc_sinrangos guardada como Acc_vel_loc_sinrangos.csv\n",
      "Hoja Velocidad_sin_Rangos guardada como Velocidad_sin_Rangos.csv\n",
      "Hoja Velocidad % por prov guardada como Velocidad % por prov.csv\n",
      "Hoja Totales VMD guardada como Totales VMD.csv\n",
      "Hoja Accesos_tecnologia_localidad guardada como Accesos_tecnologia_localidad.csv\n",
      "Hoja Totales Accesos Por Tecnología guardada como Totales Accesos Por Tecnología.csv\n",
      "Hoja Accesos Por Tecnología guardada como Accesos Por Tecnología.csv\n",
      "Hoja Dial-BAf guardada como Dial-BAf.csv\n",
      "Hoja Totales Dial-BAf guardada como Totales Dial-BAf.csv\n",
      "Hoja Penetración-poblacion guardada como Penetración-poblacion.csv\n",
      "Hoja Penetracion-hogares guardada como Penetracion-hogares.csv\n",
      "Hoja Penetracion-totales guardada como Penetracion-totales.csv\n",
      "Hoja Totales Accesos por velocidad guardada como Totales Accesos por velocidad.csv\n",
      "Hoja Accesos por velocidad guardada como Accesos por velocidad.csv\n",
      "Hoja Ingresos guardada como Ingresos.csv\n"
     ]
    }
   ],
   "source": [
    "for hojas_excel in internet.sheet_names:\n",
    "    df = pd.read_excel(internet, sheet_name=hojas_excel)\n",
    "    \n",
    "    archivo_CSV = f'{hojas_excel}.csv'\n",
    "    \n",
    "    df.to_csv(archivo_CSV, index=False)\n",
    "    print(f'Hoja {hojas_excel} guardada como {archivo_CSV}')"
   ]
  },
  {
   "cell_type": "markdown",
   "metadata": {},
   "source": [
    "<h2>Carga de Datos</h2>"
   ]
  },
  {
   "cell_type": "markdown",
   "metadata": {},
   "source": [
    "provincia_VMD"
   ]
  },
  {
   "cell_type": "code",
   "execution_count": 516,
   "metadata": {},
   "outputs": [
    {
     "name": "stdout",
     "output_type": "stream",
     "text": [
      "<class 'pandas.core.frame.DataFrame'>\n",
      "RangeIndex: 960 entries, 0 to 959\n",
      "Data columns (total 4 columns):\n",
      " #   Column                  Non-Null Count  Dtype  \n",
      "---  ------                  --------------  -----  \n",
      " 0   Año                     960 non-null    int64  \n",
      " 1   Trimestre               960 non-null    int64  \n",
      " 2   Provincia               960 non-null    object \n",
      " 3   Mbps (Media de bajada)  960 non-null    float64\n",
      "dtypes: float64(1), int64(2), object(1)\n",
      "memory usage: 30.1+ KB\n"
     ]
    }
   ],
   "source": [
    "provincia_VMD = pd.read_csv('../Hojas CSVs Excel/Velocidad % por prov.csv')\n",
    "provincia_VMD.info()"
   ]
  },
  {
   "cell_type": "code",
   "execution_count": 517,
   "metadata": {},
   "outputs": [
    {
     "data": {
      "text/html": [
       "<div>\n",
       "<style scoped>\n",
       "    .dataframe tbody tr th:only-of-type {\n",
       "        vertical-align: middle;\n",
       "    }\n",
       "\n",
       "    .dataframe tbody tr th {\n",
       "        vertical-align: top;\n",
       "    }\n",
       "\n",
       "    .dataframe thead th {\n",
       "        text-align: right;\n",
       "    }\n",
       "</style>\n",
       "<table border=\"1\" class=\"dataframe\">\n",
       "  <thead>\n",
       "    <tr style=\"text-align: right;\">\n",
       "      <th></th>\n",
       "      <th>Año</th>\n",
       "      <th>Trimestre</th>\n",
       "      <th>Provincia</th>\n",
       "      <th>Mbps (Media de bajada)</th>\n",
       "    </tr>\n",
       "  </thead>\n",
       "  <tbody>\n",
       "    <tr>\n",
       "      <th>0</th>\n",
       "      <td>2023</td>\n",
       "      <td>4</td>\n",
       "      <td>Buenos Aires</td>\n",
       "      <td>158.49</td>\n",
       "    </tr>\n",
       "    <tr>\n",
       "      <th>1</th>\n",
       "      <td>2023</td>\n",
       "      <td>4</td>\n",
       "      <td>Capital Federal</td>\n",
       "      <td>234.44</td>\n",
       "    </tr>\n",
       "    <tr>\n",
       "      <th>2</th>\n",
       "      <td>2023</td>\n",
       "      <td>4</td>\n",
       "      <td>Catamarca</td>\n",
       "      <td>89.40</td>\n",
       "    </tr>\n",
       "    <tr>\n",
       "      <th>3</th>\n",
       "      <td>2023</td>\n",
       "      <td>4</td>\n",
       "      <td>Chaco</td>\n",
       "      <td>107.14</td>\n",
       "    </tr>\n",
       "    <tr>\n",
       "      <th>4</th>\n",
       "      <td>2023</td>\n",
       "      <td>4</td>\n",
       "      <td>Chubut</td>\n",
       "      <td>20.29</td>\n",
       "    </tr>\n",
       "  </tbody>\n",
       "</table>\n",
       "</div>"
      ],
      "text/plain": [
       "    Año  Trimestre        Provincia  Mbps (Media de bajada)\n",
       "0  2023          4     Buenos Aires                  158.49\n",
       "1  2023          4  Capital Federal                  234.44\n",
       "2  2023          4        Catamarca                   89.40\n",
       "3  2023          4            Chaco                  107.14\n",
       "4  2023          4           Chubut                   20.29"
      ]
     },
     "execution_count": 517,
     "metadata": {},
     "output_type": "execute_result"
    }
   ],
   "source": [
    "provincia_VMD.head(5)"
   ]
  },
  {
   "cell_type": "markdown",
   "metadata": {},
   "source": [
    "totales_VMD"
   ]
  },
  {
   "cell_type": "code",
   "execution_count": 518,
   "metadata": {},
   "outputs": [
    {
     "name": "stdout",
     "output_type": "stream",
     "text": [
      "<class 'pandas.core.frame.DataFrame'>\n",
      "RangeIndex: 40 entries, 0 to 39\n",
      "Data columns (total 4 columns):\n",
      " #   Column                  Non-Null Count  Dtype  \n",
      "---  ------                  --------------  -----  \n",
      " 0   Año                     40 non-null     int64  \n",
      " 1   Trimestre               40 non-null     int64  \n",
      " 2   Mbps (Media de bajada)  40 non-null     float64\n",
      " 3   Trimestre.1             40 non-null     object \n",
      "dtypes: float64(1), int64(2), object(1)\n",
      "memory usage: 1.4+ KB\n"
     ]
    }
   ],
   "source": [
    "totales_VMD = pd.read_csv('../Hojas CSVs Excel/Totales VMD.csv')\n",
    "totales_VMD.info()"
   ]
  },
  {
   "cell_type": "code",
   "execution_count": 519,
   "metadata": {},
   "outputs": [
    {
     "data": {
      "text/html": [
       "<div>\n",
       "<style scoped>\n",
       "    .dataframe tbody tr th:only-of-type {\n",
       "        vertical-align: middle;\n",
       "    }\n",
       "\n",
       "    .dataframe tbody tr th {\n",
       "        vertical-align: top;\n",
       "    }\n",
       "\n",
       "    .dataframe thead th {\n",
       "        text-align: right;\n",
       "    }\n",
       "</style>\n",
       "<table border=\"1\" class=\"dataframe\">\n",
       "  <thead>\n",
       "    <tr style=\"text-align: right;\">\n",
       "      <th></th>\n",
       "      <th>Año</th>\n",
       "      <th>Trimestre</th>\n",
       "      <th>Mbps (Media de bajada)</th>\n",
       "      <th>Trimestre.1</th>\n",
       "    </tr>\n",
       "  </thead>\n",
       "  <tbody>\n",
       "    <tr>\n",
       "      <th>0</th>\n",
       "      <td>2023</td>\n",
       "      <td>4</td>\n",
       "      <td>139.04</td>\n",
       "      <td>Oct-Dic 2023</td>\n",
       "    </tr>\n",
       "    <tr>\n",
       "      <th>1</th>\n",
       "      <td>2023</td>\n",
       "      <td>3</td>\n",
       "      <td>129.67</td>\n",
       "      <td>Jul-Sept 2023</td>\n",
       "    </tr>\n",
       "    <tr>\n",
       "      <th>2</th>\n",
       "      <td>2023</td>\n",
       "      <td>2</td>\n",
       "      <td>123.95</td>\n",
       "      <td>Abr-Jun 2023</td>\n",
       "    </tr>\n",
       "    <tr>\n",
       "      <th>3</th>\n",
       "      <td>2023</td>\n",
       "      <td>1</td>\n",
       "      <td>110.50</td>\n",
       "      <td>Ene-Mar 2023</td>\n",
       "    </tr>\n",
       "    <tr>\n",
       "      <th>4</th>\n",
       "      <td>2022</td>\n",
       "      <td>4</td>\n",
       "      <td>106.56</td>\n",
       "      <td>Oct-Dic 2022</td>\n",
       "    </tr>\n",
       "  </tbody>\n",
       "</table>\n",
       "</div>"
      ],
      "text/plain": [
       "    Año  Trimestre  Mbps (Media de bajada)    Trimestre.1\n",
       "0  2023          4                  139.04   Oct-Dic 2023\n",
       "1  2023          3                  129.67  Jul-Sept 2023\n",
       "2  2023          2                  123.95   Abr-Jun 2023\n",
       "3  2023          1                  110.50   Ene-Mar 2023\n",
       "4  2022          4                  106.56   Oct-Dic 2022"
      ]
     },
     "execution_count": 519,
     "metadata": {},
     "output_type": "execute_result"
    }
   ],
   "source": [
    "totales_VMD.head(5)"
   ]
  },
  {
   "cell_type": "markdown",
   "metadata": {},
   "source": [
    "accesos_x_tecnologia"
   ]
  },
  {
   "cell_type": "code",
   "execution_count": 520,
   "metadata": {},
   "outputs": [
    {
     "name": "stdout",
     "output_type": "stream",
     "text": [
      "<class 'pandas.core.frame.DataFrame'>\n",
      "RangeIndex: 962 entries, 0 to 961\n",
      "Data columns (total 9 columns):\n",
      " #   Column        Non-Null Count  Dtype  \n",
      "---  ------        --------------  -----  \n",
      " 0   Año           961 non-null    object \n",
      " 1   Trimestre     961 non-null    object \n",
      " 2   Provincia     960 non-null    object \n",
      " 3   ADSL          960 non-null    float64\n",
      " 4   Cablemodem    960 non-null    float64\n",
      " 5   Fibra óptica  960 non-null    float64\n",
      " 6   Wireless      960 non-null    float64\n",
      " 7   Otros         960 non-null    float64\n",
      " 8   Total         960 non-null    float64\n",
      "dtypes: float64(6), object(3)\n",
      "memory usage: 67.8+ KB\n"
     ]
    }
   ],
   "source": [
    "accesos_x_tecnologia = pd.read_csv('../Hojas CSVs Excel/Accesos Por Tecnología.csv')\n",
    "accesos_x_tecnologia.info()"
   ]
  },
  {
   "cell_type": "code",
   "execution_count": 521,
   "metadata": {},
   "outputs": [
    {
     "data": {
      "text/html": [
       "<div>\n",
       "<style scoped>\n",
       "    .dataframe tbody tr th:only-of-type {\n",
       "        vertical-align: middle;\n",
       "    }\n",
       "\n",
       "    .dataframe tbody tr th {\n",
       "        vertical-align: top;\n",
       "    }\n",
       "\n",
       "    .dataframe thead th {\n",
       "        text-align: right;\n",
       "    }\n",
       "</style>\n",
       "<table border=\"1\" class=\"dataframe\">\n",
       "  <thead>\n",
       "    <tr style=\"text-align: right;\">\n",
       "      <th></th>\n",
       "      <th>Año</th>\n",
       "      <th>Trimestre</th>\n",
       "      <th>Provincia</th>\n",
       "      <th>ADSL</th>\n",
       "      <th>Cablemodem</th>\n",
       "      <th>Fibra óptica</th>\n",
       "      <th>Wireless</th>\n",
       "      <th>Otros</th>\n",
       "      <th>Total</th>\n",
       "    </tr>\n",
       "  </thead>\n",
       "  <tbody>\n",
       "    <tr>\n",
       "      <th>0</th>\n",
       "      <td>2023</td>\n",
       "      <td>4</td>\n",
       "      <td>Buenos Aires</td>\n",
       "      <td>223391.0</td>\n",
       "      <td>2797700.0</td>\n",
       "      <td>1784593.0</td>\n",
       "      <td>137993.0</td>\n",
       "      <td>67943.0</td>\n",
       "      <td>5011620.0</td>\n",
       "    </tr>\n",
       "    <tr>\n",
       "      <th>1</th>\n",
       "      <td>2023</td>\n",
       "      <td>4</td>\n",
       "      <td>Capital Federal</td>\n",
       "      <td>58700.0</td>\n",
       "      <td>1198835.0</td>\n",
       "      <td>182520.0</td>\n",
       "      <td>4492.0</td>\n",
       "      <td>29820.0</td>\n",
       "      <td>1474367.0</td>\n",
       "    </tr>\n",
       "    <tr>\n",
       "      <th>2</th>\n",
       "      <td>2023</td>\n",
       "      <td>4</td>\n",
       "      <td>Catamarca</td>\n",
       "      <td>6669.0</td>\n",
       "      <td>11016.0</td>\n",
       "      <td>55437.0</td>\n",
       "      <td>1384.0</td>\n",
       "      <td>81.0</td>\n",
       "      <td>74587.0</td>\n",
       "    </tr>\n",
       "    <tr>\n",
       "      <th>3</th>\n",
       "      <td>2023</td>\n",
       "      <td>4</td>\n",
       "      <td>Chaco</td>\n",
       "      <td>14000.0</td>\n",
       "      <td>60277.0</td>\n",
       "      <td>62301.0</td>\n",
       "      <td>8404.0</td>\n",
       "      <td>2404.0</td>\n",
       "      <td>147386.0</td>\n",
       "    </tr>\n",
       "    <tr>\n",
       "      <th>4</th>\n",
       "      <td>2023</td>\n",
       "      <td>4</td>\n",
       "      <td>Chubut</td>\n",
       "      <td>26306.0</td>\n",
       "      <td>77217.0</td>\n",
       "      <td>26174.0</td>\n",
       "      <td>30543.0</td>\n",
       "      <td>9930.0</td>\n",
       "      <td>170170.0</td>\n",
       "    </tr>\n",
       "  </tbody>\n",
       "</table>\n",
       "</div>"
      ],
      "text/plain": [
       "    Año Trimestre        Provincia      ADSL  Cablemodem  Fibra óptica  \\\n",
       "0  2023         4     Buenos Aires  223391.0   2797700.0     1784593.0   \n",
       "1  2023         4  Capital Federal   58700.0   1198835.0      182520.0   \n",
       "2  2023         4        Catamarca    6669.0     11016.0       55437.0   \n",
       "3  2023         4            Chaco   14000.0     60277.0       62301.0   \n",
       "4  2023         4           Chubut   26306.0     77217.0       26174.0   \n",
       "\n",
       "   Wireless    Otros      Total  \n",
       "0  137993.0  67943.0  5011620.0  \n",
       "1    4492.0  29820.0  1474367.0  \n",
       "2    1384.0     81.0    74587.0  \n",
       "3    8404.0   2404.0   147386.0  \n",
       "4   30543.0   9930.0   170170.0  "
      ]
     },
     "execution_count": 521,
     "metadata": {},
     "output_type": "execute_result"
    }
   ],
   "source": [
    "accesos_x_tecnologia.head()"
   ]
  },
  {
   "cell_type": "markdown",
   "metadata": {},
   "source": [
    "totales_accesos_x_tecnologia"
   ]
  },
  {
   "cell_type": "code",
   "execution_count": 522,
   "metadata": {},
   "outputs": [
    {
     "name": "stdout",
     "output_type": "stream",
     "text": [
      "<class 'pandas.core.frame.DataFrame'>\n",
      "RangeIndex: 40 entries, 0 to 39\n",
      "Data columns (total 9 columns):\n",
      " #   Column        Non-Null Count  Dtype \n",
      "---  ------        --------------  ----- \n",
      " 0   Año           40 non-null     int64 \n",
      " 1   Trimestre     40 non-null     int64 \n",
      " 2   ADSL          40 non-null     int64 \n",
      " 3   Cablemodem    40 non-null     int64 \n",
      " 4   Fibra óptica  40 non-null     int64 \n",
      " 5   Wireless      40 non-null     int64 \n",
      " 6   Otros         40 non-null     int64 \n",
      " 7   Total         40 non-null     int64 \n",
      " 8   Periodo       40 non-null     object\n",
      "dtypes: int64(8), object(1)\n",
      "memory usage: 2.9+ KB\n"
     ]
    }
   ],
   "source": [
    "totales_accesos_x_tecnologia = pd.read_csv('../Hojas CSVs Excel/Totales Accesos Por Tecnología.csv')\n",
    "totales_accesos_x_tecnologia.info()"
   ]
  },
  {
   "cell_type": "code",
   "execution_count": 523,
   "metadata": {},
   "outputs": [
    {
     "data": {
      "text/html": [
       "<div>\n",
       "<style scoped>\n",
       "    .dataframe tbody tr th:only-of-type {\n",
       "        vertical-align: middle;\n",
       "    }\n",
       "\n",
       "    .dataframe tbody tr th {\n",
       "        vertical-align: top;\n",
       "    }\n",
       "\n",
       "    .dataframe thead th {\n",
       "        text-align: right;\n",
       "    }\n",
       "</style>\n",
       "<table border=\"1\" class=\"dataframe\">\n",
       "  <thead>\n",
       "    <tr style=\"text-align: right;\">\n",
       "      <th></th>\n",
       "      <th>Año</th>\n",
       "      <th>Trimestre</th>\n",
       "      <th>ADSL</th>\n",
       "      <th>Cablemodem</th>\n",
       "      <th>Fibra óptica</th>\n",
       "      <th>Wireless</th>\n",
       "      <th>Otros</th>\n",
       "      <th>Total</th>\n",
       "      <th>Periodo</th>\n",
       "    </tr>\n",
       "  </thead>\n",
       "  <tbody>\n",
       "    <tr>\n",
       "      <th>0</th>\n",
       "      <td>2023</td>\n",
       "      <td>4</td>\n",
       "      <td>836390</td>\n",
       "      <td>6022532</td>\n",
       "      <td>3908183</td>\n",
       "      <td>585760</td>\n",
       "      <td>194796</td>\n",
       "      <td>11547661</td>\n",
       "      <td>Oct-Dic 2023</td>\n",
       "    </tr>\n",
       "    <tr>\n",
       "      <th>1</th>\n",
       "      <td>2023</td>\n",
       "      <td>3</td>\n",
       "      <td>897895</td>\n",
       "      <td>6018832</td>\n",
       "      <td>3708718</td>\n",
       "      <td>581436</td>\n",
       "      <td>200027</td>\n",
       "      <td>11406908</td>\n",
       "      <td>Jul-Sept 2023</td>\n",
       "    </tr>\n",
       "    <tr>\n",
       "      <th>2</th>\n",
       "      <td>2023</td>\n",
       "      <td>2</td>\n",
       "      <td>1006509</td>\n",
       "      <td>5997149</td>\n",
       "      <td>3463988</td>\n",
       "      <td>581823</td>\n",
       "      <td>202428</td>\n",
       "      <td>11251897</td>\n",
       "      <td>Abr-Jun 2023</td>\n",
       "    </tr>\n",
       "    <tr>\n",
       "      <th>3</th>\n",
       "      <td>2023</td>\n",
       "      <td>1</td>\n",
       "      <td>1204417</td>\n",
       "      <td>6002582</td>\n",
       "      <td>3243411</td>\n",
       "      <td>576647</td>\n",
       "      <td>214838</td>\n",
       "      <td>11241895</td>\n",
       "      <td>Ene-Mar 2023</td>\n",
       "    </tr>\n",
       "    <tr>\n",
       "      <th>4</th>\n",
       "      <td>2022</td>\n",
       "      <td>4</td>\n",
       "      <td>1315373</td>\n",
       "      <td>6037457</td>\n",
       "      <td>3060575</td>\n",
       "      <td>572969</td>\n",
       "      <td>221740</td>\n",
       "      <td>11208114</td>\n",
       "      <td>Oct-Dic 2022</td>\n",
       "    </tr>\n",
       "  </tbody>\n",
       "</table>\n",
       "</div>"
      ],
      "text/plain": [
       "    Año  Trimestre     ADSL  Cablemodem  Fibra óptica  Wireless   Otros  \\\n",
       "0  2023          4   836390     6022532       3908183    585760  194796   \n",
       "1  2023          3   897895     6018832       3708718    581436  200027   \n",
       "2  2023          2  1006509     5997149       3463988    581823  202428   \n",
       "3  2023          1  1204417     6002582       3243411    576647  214838   \n",
       "4  2022          4  1315373     6037457       3060575    572969  221740   \n",
       "\n",
       "      Total        Periodo  \n",
       "0  11547661   Oct-Dic 2023  \n",
       "1  11406908  Jul-Sept 2023  \n",
       "2  11251897   Abr-Jun 2023  \n",
       "3  11241895   Ene-Mar 2023  \n",
       "4  11208114   Oct-Dic 2022  "
      ]
     },
     "execution_count": 523,
     "metadata": {},
     "output_type": "execute_result"
    }
   ],
   "source": [
    "totales_accesos_x_tecnologia.head()"
   ]
  },
  {
   "cell_type": "markdown",
   "metadata": {},
   "source": [
    "dial_BAf"
   ]
  },
  {
   "cell_type": "code",
   "execution_count": 524,
   "metadata": {},
   "outputs": [
    {
     "name": "stdout",
     "output_type": "stream",
     "text": [
      "<class 'pandas.core.frame.DataFrame'>\n",
      "RangeIndex: 960 entries, 0 to 959\n",
      "Data columns (total 6 columns):\n",
      " #   Column            Non-Null Count  Dtype  \n",
      "---  ------            --------------  -----  \n",
      " 0   Año               960 non-null    int64  \n",
      " 1   Trimestre         960 non-null    int64  \n",
      " 2   Provincia         960 non-null    object \n",
      " 3   Banda ancha fija  960 non-null    int64  \n",
      " 4   Dial up           958 non-null    float64\n",
      " 5   Total             960 non-null    int64  \n",
      "dtypes: float64(1), int64(4), object(1)\n",
      "memory usage: 45.1+ KB\n"
     ]
    }
   ],
   "source": [
    "dial_BAf = pd.read_csv('../Hojas CSVs Excel/Dial-BAf.csv')\n",
    "dial_BAf.info()"
   ]
  },
  {
   "cell_type": "code",
   "execution_count": 525,
   "metadata": {},
   "outputs": [
    {
     "data": {
      "text/html": [
       "<div>\n",
       "<style scoped>\n",
       "    .dataframe tbody tr th:only-of-type {\n",
       "        vertical-align: middle;\n",
       "    }\n",
       "\n",
       "    .dataframe tbody tr th {\n",
       "        vertical-align: top;\n",
       "    }\n",
       "\n",
       "    .dataframe thead th {\n",
       "        text-align: right;\n",
       "    }\n",
       "</style>\n",
       "<table border=\"1\" class=\"dataframe\">\n",
       "  <thead>\n",
       "    <tr style=\"text-align: right;\">\n",
       "      <th></th>\n",
       "      <th>Año</th>\n",
       "      <th>Trimestre</th>\n",
       "      <th>Provincia</th>\n",
       "      <th>Banda ancha fija</th>\n",
       "      <th>Dial up</th>\n",
       "      <th>Total</th>\n",
       "    </tr>\n",
       "  </thead>\n",
       "  <tbody>\n",
       "    <tr>\n",
       "      <th>0</th>\n",
       "      <td>2023</td>\n",
       "      <td>4</td>\n",
       "      <td>Buenos Aires</td>\n",
       "      <td>5005720</td>\n",
       "      <td>5900.0</td>\n",
       "      <td>5011620</td>\n",
       "    </tr>\n",
       "    <tr>\n",
       "      <th>1</th>\n",
       "      <td>2023</td>\n",
       "      <td>4</td>\n",
       "      <td>Capital Federal</td>\n",
       "      <td>1472317</td>\n",
       "      <td>2050.0</td>\n",
       "      <td>1474367</td>\n",
       "    </tr>\n",
       "    <tr>\n",
       "      <th>2</th>\n",
       "      <td>2023</td>\n",
       "      <td>4</td>\n",
       "      <td>Catamarca</td>\n",
       "      <td>74586</td>\n",
       "      <td>1.0</td>\n",
       "      <td>74587</td>\n",
       "    </tr>\n",
       "    <tr>\n",
       "      <th>3</th>\n",
       "      <td>2023</td>\n",
       "      <td>4</td>\n",
       "      <td>Chaco</td>\n",
       "      <td>147381</td>\n",
       "      <td>5.0</td>\n",
       "      <td>147386</td>\n",
       "    </tr>\n",
       "    <tr>\n",
       "      <th>4</th>\n",
       "      <td>2023</td>\n",
       "      <td>4</td>\n",
       "      <td>Chubut</td>\n",
       "      <td>169313</td>\n",
       "      <td>857.0</td>\n",
       "      <td>170170</td>\n",
       "    </tr>\n",
       "  </tbody>\n",
       "</table>\n",
       "</div>"
      ],
      "text/plain": [
       "    Año  Trimestre        Provincia  Banda ancha fija  Dial up    Total\n",
       "0  2023          4     Buenos Aires           5005720   5900.0  5011620\n",
       "1  2023          4  Capital Federal           1472317   2050.0  1474367\n",
       "2  2023          4        Catamarca             74586      1.0    74587\n",
       "3  2023          4            Chaco            147381      5.0   147386\n",
       "4  2023          4           Chubut            169313    857.0   170170"
      ]
     },
     "execution_count": 525,
     "metadata": {},
     "output_type": "execute_result"
    }
   ],
   "source": [
    "dial_BAf.head()"
   ]
  },
  {
   "cell_type": "markdown",
   "metadata": {},
   "source": [
    "totales_dial_BAf"
   ]
  },
  {
   "cell_type": "code",
   "execution_count": 526,
   "metadata": {},
   "outputs": [
    {
     "name": "stdout",
     "output_type": "stream",
     "text": [
      "<class 'pandas.core.frame.DataFrame'>\n",
      "RangeIndex: 40 entries, 0 to 39\n",
      "Data columns (total 6 columns):\n",
      " #   Column            Non-Null Count  Dtype \n",
      "---  ------            --------------  ----- \n",
      " 0   Año               40 non-null     int64 \n",
      " 1   Trimestre         40 non-null     int64 \n",
      " 2   Banda ancha fija  40 non-null     int64 \n",
      " 3   Dial up           40 non-null     int64 \n",
      " 4   Total             40 non-null     int64 \n",
      " 5   Periodo           40 non-null     object\n",
      "dtypes: int64(5), object(1)\n",
      "memory usage: 2.0+ KB\n"
     ]
    }
   ],
   "source": [
    "totales_dial_BAf= pd.read_csv('../Hojas CSVs Excel/Totales Dial-BAf.csv')\n",
    "totales_dial_BAf.info()"
   ]
  },
  {
   "cell_type": "code",
   "execution_count": 527,
   "metadata": {},
   "outputs": [
    {
     "data": {
      "text/html": [
       "<div>\n",
       "<style scoped>\n",
       "    .dataframe tbody tr th:only-of-type {\n",
       "        vertical-align: middle;\n",
       "    }\n",
       "\n",
       "    .dataframe tbody tr th {\n",
       "        vertical-align: top;\n",
       "    }\n",
       "\n",
       "    .dataframe thead th {\n",
       "        text-align: right;\n",
       "    }\n",
       "</style>\n",
       "<table border=\"1\" class=\"dataframe\">\n",
       "  <thead>\n",
       "    <tr style=\"text-align: right;\">\n",
       "      <th></th>\n",
       "      <th>Año</th>\n",
       "      <th>Trimestre</th>\n",
       "      <th>Banda ancha fija</th>\n",
       "      <th>Dial up</th>\n",
       "      <th>Total</th>\n",
       "      <th>Periodo</th>\n",
       "    </tr>\n",
       "  </thead>\n",
       "  <tbody>\n",
       "    <tr>\n",
       "      <th>0</th>\n",
       "      <td>2023</td>\n",
       "      <td>4</td>\n",
       "      <td>11535868</td>\n",
       "      <td>11793</td>\n",
       "      <td>11547661</td>\n",
       "      <td>Oct-Dic 2023</td>\n",
       "    </tr>\n",
       "    <tr>\n",
       "      <th>1</th>\n",
       "      <td>2023</td>\n",
       "      <td>3</td>\n",
       "      <td>11395115</td>\n",
       "      <td>11793</td>\n",
       "      <td>11406908</td>\n",
       "      <td>Jul-Sept 2023</td>\n",
       "    </tr>\n",
       "    <tr>\n",
       "      <th>2</th>\n",
       "      <td>2023</td>\n",
       "      <td>2</td>\n",
       "      <td>11239781</td>\n",
       "      <td>12116</td>\n",
       "      <td>11251897</td>\n",
       "      <td>Abr-Jun 2023</td>\n",
       "    </tr>\n",
       "    <tr>\n",
       "      <th>3</th>\n",
       "      <td>2023</td>\n",
       "      <td>1</td>\n",
       "      <td>11229459</td>\n",
       "      <td>12436</td>\n",
       "      <td>11241895</td>\n",
       "      <td>Ene-Mar 2023</td>\n",
       "    </tr>\n",
       "    <tr>\n",
       "      <th>4</th>\n",
       "      <td>2022</td>\n",
       "      <td>4</td>\n",
       "      <td>11195668</td>\n",
       "      <td>12446</td>\n",
       "      <td>11208114</td>\n",
       "      <td>Oct-Dic 2022</td>\n",
       "    </tr>\n",
       "  </tbody>\n",
       "</table>\n",
       "</div>"
      ],
      "text/plain": [
       "    Año  Trimestre  Banda ancha fija  Dial up     Total        Periodo\n",
       "0  2023          4          11535868    11793  11547661   Oct-Dic 2023\n",
       "1  2023          3          11395115    11793  11406908  Jul-Sept 2023\n",
       "2  2023          2          11239781    12116  11251897   Abr-Jun 2023\n",
       "3  2023          1          11229459    12436  11241895   Ene-Mar 2023\n",
       "4  2022          4          11195668    12446  11208114   Oct-Dic 2022"
      ]
     },
     "execution_count": 527,
     "metadata": {},
     "output_type": "execute_result"
    }
   ],
   "source": [
    "totales_dial_BAf.head()"
   ]
  },
  {
   "cell_type": "markdown",
   "metadata": {},
   "source": [
    "penetracion_poblacion"
   ]
  },
  {
   "cell_type": "code",
   "execution_count": 528,
   "metadata": {},
   "outputs": [
    {
     "name": "stdout",
     "output_type": "stream",
     "text": [
      "<class 'pandas.core.frame.DataFrame'>\n",
      "RangeIndex: 960 entries, 0 to 959\n",
      "Data columns (total 4 columns):\n",
      " #   Column                    Non-Null Count  Dtype  \n",
      "---  ------                    --------------  -----  \n",
      " 0   Año                       960 non-null    int64  \n",
      " 1   Trimestre                 960 non-null    int64  \n",
      " 2   Provincia                 960 non-null    object \n",
      " 3   Accesos por cada 100 hab  960 non-null    float64\n",
      "dtypes: float64(1), int64(2), object(1)\n",
      "memory usage: 30.1+ KB\n"
     ]
    }
   ],
   "source": [
    "penetracion_poblacion= pd.read_csv('../Hojas CSVs Excel/Penetración-poblacion.csv')\n",
    "penetracion_poblacion.info()"
   ]
  },
  {
   "cell_type": "code",
   "execution_count": 529,
   "metadata": {},
   "outputs": [
    {
     "data": {
      "text/html": [
       "<div>\n",
       "<style scoped>\n",
       "    .dataframe tbody tr th:only-of-type {\n",
       "        vertical-align: middle;\n",
       "    }\n",
       "\n",
       "    .dataframe tbody tr th {\n",
       "        vertical-align: top;\n",
       "    }\n",
       "\n",
       "    .dataframe thead th {\n",
       "        text-align: right;\n",
       "    }\n",
       "</style>\n",
       "<table border=\"1\" class=\"dataframe\">\n",
       "  <thead>\n",
       "    <tr style=\"text-align: right;\">\n",
       "      <th></th>\n",
       "      <th>Año</th>\n",
       "      <th>Trimestre</th>\n",
       "      <th>Provincia</th>\n",
       "      <th>Accesos por cada 100 hab</th>\n",
       "    </tr>\n",
       "  </thead>\n",
       "  <tbody>\n",
       "    <tr>\n",
       "      <th>0</th>\n",
       "      <td>2023</td>\n",
       "      <td>4</td>\n",
       "      <td>Buenos Aires</td>\n",
       "      <td>27.68</td>\n",
       "    </tr>\n",
       "    <tr>\n",
       "      <th>1</th>\n",
       "      <td>2023</td>\n",
       "      <td>4</td>\n",
       "      <td>Capital Federal</td>\n",
       "      <td>47.80</td>\n",
       "    </tr>\n",
       "    <tr>\n",
       "      <th>2</th>\n",
       "      <td>2023</td>\n",
       "      <td>4</td>\n",
       "      <td>Catamarca</td>\n",
       "      <td>17.46</td>\n",
       "    </tr>\n",
       "    <tr>\n",
       "      <th>3</th>\n",
       "      <td>2023</td>\n",
       "      <td>4</td>\n",
       "      <td>Chaco</td>\n",
       "      <td>11.85</td>\n",
       "    </tr>\n",
       "    <tr>\n",
       "      <th>4</th>\n",
       "      <td>2023</td>\n",
       "      <td>4</td>\n",
       "      <td>Chubut</td>\n",
       "      <td>26.04</td>\n",
       "    </tr>\n",
       "  </tbody>\n",
       "</table>\n",
       "</div>"
      ],
      "text/plain": [
       "    Año  Trimestre        Provincia  Accesos por cada 100 hab\n",
       "0  2023          4     Buenos Aires                     27.68\n",
       "1  2023          4  Capital Federal                     47.80\n",
       "2  2023          4        Catamarca                     17.46\n",
       "3  2023          4            Chaco                     11.85\n",
       "4  2023          4           Chubut                     26.04"
      ]
     },
     "execution_count": 529,
     "metadata": {},
     "output_type": "execute_result"
    }
   ],
   "source": [
    "penetracion_poblacion.head()"
   ]
  },
  {
   "cell_type": "markdown",
   "metadata": {},
   "source": [
    "penetracion_hogares"
   ]
  },
  {
   "cell_type": "code",
   "execution_count": 530,
   "metadata": {},
   "outputs": [
    {
     "name": "stdout",
     "output_type": "stream",
     "text": [
      "<class 'pandas.core.frame.DataFrame'>\n",
      "RangeIndex: 960 entries, 0 to 959\n",
      "Data columns (total 4 columns):\n",
      " #   Column                        Non-Null Count  Dtype  \n",
      "---  ------                        --------------  -----  \n",
      " 0   Año                           960 non-null    int64  \n",
      " 1   Trimestre                     960 non-null    int64  \n",
      " 2   Provincia                     960 non-null    object \n",
      " 3   Accesos por cada 100 hogares  960 non-null    float64\n",
      "dtypes: float64(1), int64(2), object(1)\n",
      "memory usage: 30.1+ KB\n"
     ]
    }
   ],
   "source": [
    "penetracion_hogares= pd.read_csv('../Hojas CSVs Excel/Penetracion-hogares.csv')\n",
    "penetracion_hogares.info()"
   ]
  },
  {
   "cell_type": "code",
   "execution_count": 531,
   "metadata": {},
   "outputs": [
    {
     "data": {
      "text/html": [
       "<div>\n",
       "<style scoped>\n",
       "    .dataframe tbody tr th:only-of-type {\n",
       "        vertical-align: middle;\n",
       "    }\n",
       "\n",
       "    .dataframe tbody tr th {\n",
       "        vertical-align: top;\n",
       "    }\n",
       "\n",
       "    .dataframe thead th {\n",
       "        text-align: right;\n",
       "    }\n",
       "</style>\n",
       "<table border=\"1\" class=\"dataframe\">\n",
       "  <thead>\n",
       "    <tr style=\"text-align: right;\">\n",
       "      <th></th>\n",
       "      <th>Año</th>\n",
       "      <th>Trimestre</th>\n",
       "      <th>Provincia</th>\n",
       "      <th>Accesos por cada 100 hogares</th>\n",
       "    </tr>\n",
       "  </thead>\n",
       "  <tbody>\n",
       "    <tr>\n",
       "      <th>0</th>\n",
       "      <td>2023</td>\n",
       "      <td>4</td>\n",
       "      <td>Buenos Aires</td>\n",
       "      <td>80.96</td>\n",
       "    </tr>\n",
       "    <tr>\n",
       "      <th>1</th>\n",
       "      <td>2023</td>\n",
       "      <td>4</td>\n",
       "      <td>Capital Federal</td>\n",
       "      <td>117.02</td>\n",
       "    </tr>\n",
       "    <tr>\n",
       "      <th>2</th>\n",
       "      <td>2023</td>\n",
       "      <td>4</td>\n",
       "      <td>Catamarca</td>\n",
       "      <td>68.63</td>\n",
       "    </tr>\n",
       "    <tr>\n",
       "      <th>3</th>\n",
       "      <td>2023</td>\n",
       "      <td>4</td>\n",
       "      <td>Chaco</td>\n",
       "      <td>44.35</td>\n",
       "    </tr>\n",
       "    <tr>\n",
       "      <th>4</th>\n",
       "      <td>2023</td>\n",
       "      <td>4</td>\n",
       "      <td>Chubut</td>\n",
       "      <td>84.96</td>\n",
       "    </tr>\n",
       "  </tbody>\n",
       "</table>\n",
       "</div>"
      ],
      "text/plain": [
       "    Año  Trimestre        Provincia  Accesos por cada 100 hogares\n",
       "0  2023          4     Buenos Aires                         80.96\n",
       "1  2023          4  Capital Federal                        117.02\n",
       "2  2023          4        Catamarca                         68.63\n",
       "3  2023          4            Chaco                         44.35\n",
       "4  2023          4           Chubut                         84.96"
      ]
     },
     "execution_count": 531,
     "metadata": {},
     "output_type": "execute_result"
    }
   ],
   "source": [
    "penetracion_hogares.head()"
   ]
  },
  {
   "cell_type": "markdown",
   "metadata": {},
   "source": [
    "penetracion_totales"
   ]
  },
  {
   "cell_type": "code",
   "execution_count": 532,
   "metadata": {},
   "outputs": [
    {
     "name": "stdout",
     "output_type": "stream",
     "text": [
      "<class 'pandas.core.frame.DataFrame'>\n",
      "RangeIndex: 40 entries, 0 to 39\n",
      "Data columns (total 5 columns):\n",
      " #   Column                        Non-Null Count  Dtype  \n",
      "---  ------                        --------------  -----  \n",
      " 0   Año                           40 non-null     int64  \n",
      " 1   Trimestre                     40 non-null     int64  \n",
      " 2   Accesos por cada 100 hogares  40 non-null     float64\n",
      " 3   Accesos por cada 100 hab      40 non-null     float64\n",
      " 4   Periodo                       40 non-null     object \n",
      "dtypes: float64(2), int64(2), object(1)\n",
      "memory usage: 1.7+ KB\n"
     ]
    }
   ],
   "source": [
    "penetracion_totales= pd.read_csv('../Hojas CSVs Excel/Penetracion-totales.csv')\n",
    "penetracion_totales.info()"
   ]
  },
  {
   "cell_type": "code",
   "execution_count": 533,
   "metadata": {},
   "outputs": [
    {
     "data": {
      "text/html": [
       "<div>\n",
       "<style scoped>\n",
       "    .dataframe tbody tr th:only-of-type {\n",
       "        vertical-align: middle;\n",
       "    }\n",
       "\n",
       "    .dataframe tbody tr th {\n",
       "        vertical-align: top;\n",
       "    }\n",
       "\n",
       "    .dataframe thead th {\n",
       "        text-align: right;\n",
       "    }\n",
       "</style>\n",
       "<table border=\"1\" class=\"dataframe\">\n",
       "  <thead>\n",
       "    <tr style=\"text-align: right;\">\n",
       "      <th></th>\n",
       "      <th>Año</th>\n",
       "      <th>Trimestre</th>\n",
       "      <th>Accesos por cada 100 hogares</th>\n",
       "      <th>Accesos por cada 100 hab</th>\n",
       "      <th>Periodo</th>\n",
       "    </tr>\n",
       "  </thead>\n",
       "  <tbody>\n",
       "    <tr>\n",
       "      <th>0</th>\n",
       "      <td>2023</td>\n",
       "      <td>4</td>\n",
       "      <td>78.56</td>\n",
       "      <td>24.66</td>\n",
       "      <td>Oct-Dic 2023</td>\n",
       "    </tr>\n",
       "    <tr>\n",
       "      <th>1</th>\n",
       "      <td>2023</td>\n",
       "      <td>3</td>\n",
       "      <td>77.84</td>\n",
       "      <td>24.41</td>\n",
       "      <td>Jul-Sept 2023</td>\n",
       "    </tr>\n",
       "    <tr>\n",
       "      <th>2</th>\n",
       "      <td>2023</td>\n",
       "      <td>2</td>\n",
       "      <td>77.02</td>\n",
       "      <td>24.14</td>\n",
       "      <td>Abr-Jun 2023</td>\n",
       "    </tr>\n",
       "    <tr>\n",
       "      <th>3</th>\n",
       "      <td>2023</td>\n",
       "      <td>1</td>\n",
       "      <td>77.20</td>\n",
       "      <td>24.17</td>\n",
       "      <td>Ene-Mar 2023</td>\n",
       "    </tr>\n",
       "    <tr>\n",
       "      <th>4</th>\n",
       "      <td>2022</td>\n",
       "      <td>4</td>\n",
       "      <td>77.21</td>\n",
       "      <td>24.15</td>\n",
       "      <td>Oct-Dic 2022</td>\n",
       "    </tr>\n",
       "  </tbody>\n",
       "</table>\n",
       "</div>"
      ],
      "text/plain": [
       "    Año  Trimestre  Accesos por cada 100 hogares  Accesos por cada 100 hab  \\\n",
       "0  2023          4                         78.56                     24.66   \n",
       "1  2023          3                         77.84                     24.41   \n",
       "2  2023          2                         77.02                     24.14   \n",
       "3  2023          1                         77.20                     24.17   \n",
       "4  2022          4                         77.21                     24.15   \n",
       "\n",
       "         Periodo  \n",
       "0   Oct-Dic 2023  \n",
       "1  Jul-Sept 2023  \n",
       "2   Abr-Jun 2023  \n",
       "3   Ene-Mar 2023  \n",
       "4   Oct-Dic 2022  "
      ]
     },
     "execution_count": 533,
     "metadata": {},
     "output_type": "execute_result"
    }
   ],
   "source": [
    "penetracion_totales.head(5)"
   ]
  },
  {
   "cell_type": "markdown",
   "metadata": {},
   "source": [
    "totales_accesos_x_velocidad"
   ]
  },
  {
   "cell_type": "code",
   "execution_count": 534,
   "metadata": {},
   "outputs": [
    {
     "name": "stdout",
     "output_type": "stream",
     "text": [
      "<class 'pandas.core.frame.DataFrame'>\n",
      "RangeIndex: 40 entries, 0 to 39\n",
      "Data columns (total 11 columns):\n",
      " #   Column                   Non-Null Count  Dtype\n",
      "---  ------                   --------------  -----\n",
      " 0   Año                      40 non-null     int64\n",
      " 1   Trimestre                40 non-null     int64\n",
      " 2   Hasta 512 kbps           40 non-null     int64\n",
      " 3   Entre 512 Kbps y 1 Mbps  40 non-null     int64\n",
      " 4   Entre 1 Mbps y 6 Mbps    40 non-null     int64\n",
      " 5   Entre 6 Mbps y 10 Mbps   40 non-null     int64\n",
      " 6   Entre 10 Mbps y 20 Mbps  40 non-null     int64\n",
      " 7   Entre 20 Mbps y 30 Mbps  40 non-null     int64\n",
      " 8   Más de 30 Mbps           40 non-null     int64\n",
      " 9   OTROS                    40 non-null     int64\n",
      " 10  Total                    40 non-null     int64\n",
      "dtypes: int64(11)\n",
      "memory usage: 3.6 KB\n"
     ]
    }
   ],
   "source": [
    "totales_accesos_x_velocidad= pd.read_csv('../Hojas CSVs Excel/Totales Accesos por velocidad.csv')\n",
    "totales_accesos_x_velocidad.info()"
   ]
  },
  {
   "cell_type": "code",
   "execution_count": 535,
   "metadata": {},
   "outputs": [
    {
     "data": {
      "text/html": [
       "<div>\n",
       "<style scoped>\n",
       "    .dataframe tbody tr th:only-of-type {\n",
       "        vertical-align: middle;\n",
       "    }\n",
       "\n",
       "    .dataframe tbody tr th {\n",
       "        vertical-align: top;\n",
       "    }\n",
       "\n",
       "    .dataframe thead th {\n",
       "        text-align: right;\n",
       "    }\n",
       "</style>\n",
       "<table border=\"1\" class=\"dataframe\">\n",
       "  <thead>\n",
       "    <tr style=\"text-align: right;\">\n",
       "      <th></th>\n",
       "      <th>Año</th>\n",
       "      <th>Trimestre</th>\n",
       "      <th>Hasta 512 kbps</th>\n",
       "      <th>Entre 512 Kbps y 1 Mbps</th>\n",
       "      <th>Entre 1 Mbps y 6 Mbps</th>\n",
       "      <th>Entre 6 Mbps y 10 Mbps</th>\n",
       "      <th>Entre 10 Mbps y 20 Mbps</th>\n",
       "      <th>Entre 20 Mbps y 30 Mbps</th>\n",
       "      <th>Más de 30 Mbps</th>\n",
       "      <th>OTROS</th>\n",
       "      <th>Total</th>\n",
       "    </tr>\n",
       "  </thead>\n",
       "  <tbody>\n",
       "    <tr>\n",
       "      <th>0</th>\n",
       "      <td>2024</td>\n",
       "      <td>4</td>\n",
       "      <td>29708</td>\n",
       "      <td>71742</td>\n",
       "      <td>900253</td>\n",
       "      <td>978108</td>\n",
       "      <td>697232</td>\n",
       "      <td>350290</td>\n",
       "      <td>8224736</td>\n",
       "      <td>295592</td>\n",
       "      <td>11547661</td>\n",
       "    </tr>\n",
       "    <tr>\n",
       "      <th>1</th>\n",
       "      <td>2023</td>\n",
       "      <td>3</td>\n",
       "      <td>30274</td>\n",
       "      <td>80609</td>\n",
       "      <td>945608</td>\n",
       "      <td>998725</td>\n",
       "      <td>720084</td>\n",
       "      <td>350918</td>\n",
       "      <td>8003269</td>\n",
       "      <td>277421</td>\n",
       "      <td>11406908</td>\n",
       "    </tr>\n",
       "    <tr>\n",
       "      <th>2</th>\n",
       "      <td>2023</td>\n",
       "      <td>2</td>\n",
       "      <td>30827</td>\n",
       "      <td>79405</td>\n",
       "      <td>963510</td>\n",
       "      <td>1028250</td>\n",
       "      <td>734125</td>\n",
       "      <td>364730</td>\n",
       "      <td>7775095</td>\n",
       "      <td>275955</td>\n",
       "      <td>11251897</td>\n",
       "    </tr>\n",
       "    <tr>\n",
       "      <th>3</th>\n",
       "      <td>2023</td>\n",
       "      <td>1</td>\n",
       "      <td>31437</td>\n",
       "      <td>82048</td>\n",
       "      <td>1001553</td>\n",
       "      <td>1060321</td>\n",
       "      <td>729194</td>\n",
       "      <td>357769</td>\n",
       "      <td>7564819</td>\n",
       "      <td>414754</td>\n",
       "      <td>11241895</td>\n",
       "    </tr>\n",
       "    <tr>\n",
       "      <th>4</th>\n",
       "      <td>2022</td>\n",
       "      <td>4</td>\n",
       "      <td>31981</td>\n",
       "      <td>85668</td>\n",
       "      <td>1075272</td>\n",
       "      <td>1109421</td>\n",
       "      <td>765015</td>\n",
       "      <td>335573</td>\n",
       "      <td>7410902</td>\n",
       "      <td>394282</td>\n",
       "      <td>11208114</td>\n",
       "    </tr>\n",
       "  </tbody>\n",
       "</table>\n",
       "</div>"
      ],
      "text/plain": [
       "    Año  Trimestre  Hasta 512 kbps  Entre 512 Kbps y 1 Mbps  \\\n",
       "0  2024          4           29708                    71742   \n",
       "1  2023          3           30274                    80609   \n",
       "2  2023          2           30827                    79405   \n",
       "3  2023          1           31437                    82048   \n",
       "4  2022          4           31981                    85668   \n",
       "\n",
       "   Entre 1 Mbps y 6 Mbps  Entre 6 Mbps y 10 Mbps  Entre 10 Mbps y 20 Mbps  \\\n",
       "0                 900253                  978108                   697232   \n",
       "1                 945608                  998725                   720084   \n",
       "2                 963510                 1028250                   734125   \n",
       "3                1001553                 1060321                   729194   \n",
       "4                1075272                 1109421                   765015   \n",
       "\n",
       "   Entre 20 Mbps y 30 Mbps  Más de 30 Mbps   OTROS     Total  \n",
       "0                   350290         8224736  295592  11547661  \n",
       "1                   350918         8003269  277421  11406908  \n",
       "2                   364730         7775095  275955  11251897  \n",
       "3                   357769         7564819  414754  11241895  \n",
       "4                   335573         7410902  394282  11208114  "
      ]
     },
     "execution_count": 535,
     "metadata": {},
     "output_type": "execute_result"
    }
   ],
   "source": [
    "totales_accesos_x_velocidad.head(5)"
   ]
  },
  {
   "cell_type": "markdown",
   "metadata": {},
   "source": [
    "accesos_x_velocidad"
   ]
  },
  {
   "cell_type": "code",
   "execution_count": 536,
   "metadata": {},
   "outputs": [
    {
     "name": "stdout",
     "output_type": "stream",
     "text": [
      "<class 'pandas.core.frame.DataFrame'>\n",
      "RangeIndex: 960 entries, 0 to 959\n",
      "Data columns (total 12 columns):\n",
      " #   Column               Non-Null Count  Dtype  \n",
      "---  ------               --------------  -----  \n",
      " 0   Año                  960 non-null    int64  \n",
      " 1   Trimestre            960 non-null    int64  \n",
      " 2   Provincia            960 non-null    object \n",
      " 3   HASTA 512 kbps       960 non-null    float64\n",
      " 4   + 512 Kbps - 1 Mbps  960 non-null    float64\n",
      " 5   + 1 Mbps - 6 Mbps    960 non-null    float64\n",
      " 6   + 6 Mbps - 10 Mbps   960 non-null    float64\n",
      " 7   + 10 Mbps - 20 Mbps  960 non-null    float64\n",
      " 8   + 20 Mbps - 30 Mbps  960 non-null    float64\n",
      " 9   + 30 Mbps            960 non-null    float64\n",
      " 10  OTROS                954 non-null    float64\n",
      " 11  Total                960 non-null    float64\n",
      "dtypes: float64(9), int64(2), object(1)\n",
      "memory usage: 90.1+ KB\n"
     ]
    }
   ],
   "source": [
    "accesos_x_velocidad= pd.read_csv('../Hojas CSVs Excel/Accesos por velocidad.csv')\n",
    "accesos_x_velocidad.info()"
   ]
  },
  {
   "cell_type": "code",
   "execution_count": 537,
   "metadata": {},
   "outputs": [
    {
     "data": {
      "text/html": [
       "<div>\n",
       "<style scoped>\n",
       "    .dataframe tbody tr th:only-of-type {\n",
       "        vertical-align: middle;\n",
       "    }\n",
       "\n",
       "    .dataframe tbody tr th {\n",
       "        vertical-align: top;\n",
       "    }\n",
       "\n",
       "    .dataframe thead th {\n",
       "        text-align: right;\n",
       "    }\n",
       "</style>\n",
       "<table border=\"1\" class=\"dataframe\">\n",
       "  <thead>\n",
       "    <tr style=\"text-align: right;\">\n",
       "      <th></th>\n",
       "      <th>Año</th>\n",
       "      <th>Trimestre</th>\n",
       "      <th>Provincia</th>\n",
       "      <th>HASTA 512 kbps</th>\n",
       "      <th>+ 512 Kbps - 1 Mbps</th>\n",
       "      <th>+ 1 Mbps - 6 Mbps</th>\n",
       "      <th>+ 6 Mbps - 10 Mbps</th>\n",
       "      <th>+ 10 Mbps - 20 Mbps</th>\n",
       "      <th>+ 20 Mbps - 30 Mbps</th>\n",
       "      <th>+ 30 Mbps</th>\n",
       "      <th>OTROS</th>\n",
       "      <th>Total</th>\n",
       "    </tr>\n",
       "  </thead>\n",
       "  <tbody>\n",
       "    <tr>\n",
       "      <th>0</th>\n",
       "      <td>2024</td>\n",
       "      <td>4</td>\n",
       "      <td>Buenos Aires</td>\n",
       "      <td>26909.0</td>\n",
       "      <td>23962.0</td>\n",
       "      <td>228393.0</td>\n",
       "      <td>239339.0</td>\n",
       "      <td>246144.0</td>\n",
       "      <td>110876.0</td>\n",
       "      <td>4042646.0</td>\n",
       "      <td>93351.0</td>\n",
       "      <td>5011620.0</td>\n",
       "    </tr>\n",
       "    <tr>\n",
       "      <th>1</th>\n",
       "      <td>2024</td>\n",
       "      <td>4</td>\n",
       "      <td>Capital Federal</td>\n",
       "      <td>516.0</td>\n",
       "      <td>4544.0</td>\n",
       "      <td>26409.0</td>\n",
       "      <td>48083.0</td>\n",
       "      <td>33925.0</td>\n",
       "      <td>5829.0</td>\n",
       "      <td>1355061.0</td>\n",
       "      <td>0.0</td>\n",
       "      <td>1474367.0</td>\n",
       "    </tr>\n",
       "    <tr>\n",
       "      <th>2</th>\n",
       "      <td>2024</td>\n",
       "      <td>4</td>\n",
       "      <td>Catamarca</td>\n",
       "      <td>71.0</td>\n",
       "      <td>209.0</td>\n",
       "      <td>3065.0</td>\n",
       "      <td>3734.0</td>\n",
       "      <td>4423.0</td>\n",
       "      <td>1827.0</td>\n",
       "      <td>61181.0</td>\n",
       "      <td>77.0</td>\n",
       "      <td>74587.0</td>\n",
       "    </tr>\n",
       "    <tr>\n",
       "      <th>3</th>\n",
       "      <td>2024</td>\n",
       "      <td>4</td>\n",
       "      <td>Chaco</td>\n",
       "      <td>236.0</td>\n",
       "      <td>477.0</td>\n",
       "      <td>14811.0</td>\n",
       "      <td>10361.0</td>\n",
       "      <td>6247.0</td>\n",
       "      <td>5729.0</td>\n",
       "      <td>105485.0</td>\n",
       "      <td>4040.0</td>\n",
       "      <td>147386.0</td>\n",
       "    </tr>\n",
       "    <tr>\n",
       "      <th>4</th>\n",
       "      <td>2024</td>\n",
       "      <td>4</td>\n",
       "      <td>Chubut</td>\n",
       "      <td>111.0</td>\n",
       "      <td>1088.0</td>\n",
       "      <td>44276.0</td>\n",
       "      <td>31402.0</td>\n",
       "      <td>22843.0</td>\n",
       "      <td>20196.0</td>\n",
       "      <td>33665.0</td>\n",
       "      <td>16589.0</td>\n",
       "      <td>170170.0</td>\n",
       "    </tr>\n",
       "  </tbody>\n",
       "</table>\n",
       "</div>"
      ],
      "text/plain": [
       "    Año  Trimestre        Provincia  HASTA 512 kbps  + 512 Kbps - 1 Mbps  \\\n",
       "0  2024          4     Buenos Aires         26909.0              23962.0   \n",
       "1  2024          4  Capital Federal           516.0               4544.0   \n",
       "2  2024          4        Catamarca            71.0                209.0   \n",
       "3  2024          4            Chaco           236.0                477.0   \n",
       "4  2024          4           Chubut           111.0               1088.0   \n",
       "\n",
       "   + 1 Mbps - 6 Mbps  + 6 Mbps - 10 Mbps  + 10 Mbps - 20 Mbps  \\\n",
       "0           228393.0            239339.0             246144.0   \n",
       "1            26409.0             48083.0              33925.0   \n",
       "2             3065.0              3734.0               4423.0   \n",
       "3            14811.0             10361.0               6247.0   \n",
       "4            44276.0             31402.0              22843.0   \n",
       "\n",
       "   + 20 Mbps - 30 Mbps  + 30 Mbps    OTROS      Total  \n",
       "0             110876.0  4042646.0  93351.0  5011620.0  \n",
       "1               5829.0  1355061.0      0.0  1474367.0  \n",
       "2               1827.0    61181.0     77.0    74587.0  \n",
       "3               5729.0   105485.0   4040.0   147386.0  \n",
       "4              20196.0    33665.0  16589.0   170170.0  "
      ]
     },
     "execution_count": 537,
     "metadata": {},
     "output_type": "execute_result"
    }
   ],
   "source": [
    "accesos_x_velocidad.head(5)"
   ]
  },
  {
   "cell_type": "markdown",
   "metadata": {},
   "source": [
    "ingresos"
   ]
  },
  {
   "cell_type": "code",
   "execution_count": 538,
   "metadata": {},
   "outputs": [
    {
     "name": "stdout",
     "output_type": "stream",
     "text": [
      "<class 'pandas.core.frame.DataFrame'>\n",
      "RangeIndex: 40 entries, 0 to 39\n",
      "Data columns (total 4 columns):\n",
      " #   Column                     Non-Null Count  Dtype  \n",
      "---  ------                     --------------  -----  \n",
      " 0   Año                        40 non-null     int64  \n",
      " 1   Trimestre                  40 non-null     int64  \n",
      " 2   Ingresos (miles de pesos)  40 non-null     float64\n",
      " 3   Periodo                    40 non-null     object \n",
      "dtypes: float64(1), int64(2), object(1)\n",
      "memory usage: 1.4+ KB\n"
     ]
    }
   ],
   "source": [
    "ingresos= pd.read_csv('../Hojas CSVs Excel/Ingresos.csv')\n",
    "ingresos.info()"
   ]
  },
  {
   "cell_type": "code",
   "execution_count": 539,
   "metadata": {},
   "outputs": [
    {
     "data": {
      "text/html": [
       "<div>\n",
       "<style scoped>\n",
       "    .dataframe tbody tr th:only-of-type {\n",
       "        vertical-align: middle;\n",
       "    }\n",
       "\n",
       "    .dataframe tbody tr th {\n",
       "        vertical-align: top;\n",
       "    }\n",
       "\n",
       "    .dataframe thead th {\n",
       "        text-align: right;\n",
       "    }\n",
       "</style>\n",
       "<table border=\"1\" class=\"dataframe\">\n",
       "  <thead>\n",
       "    <tr style=\"text-align: right;\">\n",
       "      <th></th>\n",
       "      <th>Año</th>\n",
       "      <th>Trimestre</th>\n",
       "      <th>Ingresos (miles de pesos)</th>\n",
       "      <th>Periodo</th>\n",
       "    </tr>\n",
       "  </thead>\n",
       "  <tbody>\n",
       "    <tr>\n",
       "      <th>0</th>\n",
       "      <td>2023</td>\n",
       "      <td>4</td>\n",
       "      <td>1.673760e+08</td>\n",
       "      <td>Oct-Dic 2023</td>\n",
       "    </tr>\n",
       "    <tr>\n",
       "      <th>1</th>\n",
       "      <td>2023</td>\n",
       "      <td>3</td>\n",
       "      <td>1.331066e+08</td>\n",
       "      <td>Jul-Sept 2023</td>\n",
       "    </tr>\n",
       "    <tr>\n",
       "      <th>2</th>\n",
       "      <td>2023</td>\n",
       "      <td>2</td>\n",
       "      <td>1.180603e+08</td>\n",
       "      <td>Jun-Mar 2023</td>\n",
       "    </tr>\n",
       "    <tr>\n",
       "      <th>3</th>\n",
       "      <td>2033</td>\n",
       "      <td>1</td>\n",
       "      <td>1.041350e+08</td>\n",
       "      <td>Ene-Mar 2023</td>\n",
       "    </tr>\n",
       "    <tr>\n",
       "      <th>4</th>\n",
       "      <td>2022</td>\n",
       "      <td>4</td>\n",
       "      <td>7.244348e+07</td>\n",
       "      <td>Oct-Dic 2022</td>\n",
       "    </tr>\n",
       "  </tbody>\n",
       "</table>\n",
       "</div>"
      ],
      "text/plain": [
       "    Año  Trimestre  Ingresos (miles de pesos)        Periodo\n",
       "0  2023          4               1.673760e+08   Oct-Dic 2023\n",
       "1  2023          3               1.331066e+08  Jul-Sept 2023\n",
       "2  2023          2               1.180603e+08   Jun-Mar 2023\n",
       "3  2033          1               1.041350e+08   Ene-Mar 2023\n",
       "4  2022          4               7.244348e+07   Oct-Dic 2022"
      ]
     },
     "execution_count": 539,
     "metadata": {},
     "output_type": "execute_result"
    }
   ],
   "source": [
    "ingresos.head(5)"
   ]
  },
  {
   "cell_type": "markdown",
   "metadata": {},
   "source": [
    "<h2>Eliminación de vacíos</h2>\n",
    "\n",
    "Eliminamos de los datasets los campos que esten nulos. "
   ]
  },
  {
   "cell_type": "code",
   "execution_count": 540,
   "metadata": {},
   "outputs": [],
   "source": [
    "accesos_x_tecnologia = accesos_x_tecnologia.dropna()"
   ]
  },
  {
   "cell_type": "markdown",
   "metadata": {},
   "source": [
    "<h2>Manejo de valores faltantes</h2>"
   ]
  },
  {
   "cell_type": "markdown",
   "metadata": {},
   "source": [
    "En El dataset de dial_BA faltan dos datos, pero no los voy a borrar ya que perdería datos. </br>\n",
    "Los datos que faltan son de Formosa y Misiones del año 2018 para dail up. </br>\n",
    "Para hayarlos voy a restar al Total el valor de la columna Banda Ancha. "
   ]
  },
  {
   "cell_type": "code",
   "execution_count": 541,
   "metadata": {},
   "outputs": [],
   "source": [
    "mask = dial_BAf['Dial up'].isna()\n",
    "dial_BAf.loc[mask, 'Dial up'] = dial_BAf.loc[mask, 'Total'] - dial_BAf.loc[mask, 'Banda ancha fija']"
   ]
  },
  {
   "cell_type": "markdown",
   "metadata": {},
   "source": [
    "Para el dataser de accesos_por_velocidad faltan valores en la columna de otros para las provincias de La Rioja, Mendoza, Santa Cruz, Tierra del Fuego y Tucumán y para CABA. </br>\n",
    "Hay un columna que es TOTAL, para poder ingresar los datos correctamente lo que voy a hacer es restar a esta columa los datos de las otras para que me de el resultado que iría. "
   ]
  },
  {
   "cell_type": "code",
   "execution_count": 542,
   "metadata": {},
   "outputs": [],
   "source": [
    "#Para el DF de accesos_por_velocidad hago la cuenta para ver el resultado que iría en la columna \"Otros\"\n",
    "columnas_velocidades = [\n",
    "    'HASTA 512 kbps', \n",
    "    '+ 512 Kbps - 1 Mbps', \n",
    "    '+ 1 Mbps - 6 Mbps', \n",
    "    '+ 6 Mbps - 10 Mbps', \n",
    "    '+ 10 Mbps - 20 Mbps', \n",
    "    '+ 20 Mbps - 30 Mbps', \n",
    "    '+ 30 Mbps'\n",
    "]\n",
    "\n",
    "accesos_x_velocidad['suma_velocidades'] = accesos_x_velocidad[columnas_velocidades].sum(axis=1)\n",
    "\n",
    "accesos_x_velocidad['OTROS'] = accesos_x_velocidad['Total'] - accesos_x_velocidad['suma_velocidades']\n",
    "\n",
    "accesos_x_velocidad.drop(columns=['suma_velocidades'], inplace=True)"
   ]
  },
  {
   "cell_type": "markdown",
   "metadata": {},
   "source": [
    "<h2>Duplicados</h2>"
   ]
  },
  {
   "cell_type": "code",
   "execution_count": 543,
   "metadata": {},
   "outputs": [],
   "source": [
    "#Vemos si hay datos duplicados en los DFs\n",
    "def valores_duplicados(df): \n",
    "    suma_duplicados = df.duplicated().sum()\n",
    "    if suma_duplicados > 0:\n",
    "        return f\"El Dataframe{df} tiene {suma_duplicados} valores repetidos\"\n",
    "    else:\n",
    "        return f\"El Dataframe no tiene valores duplicados\""
   ]
  },
  {
   "cell_type": "code",
   "execution_count": 544,
   "metadata": {},
   "outputs": [
    {
     "name": "stdout",
     "output_type": "stream",
     "text": [
      "El Dataframe no tiene valores duplicados\n",
      "El Dataframe no tiene valores duplicados\n",
      "El Dataframe no tiene valores duplicados\n",
      "El Dataframe no tiene valores duplicados\n",
      "El Dataframe no tiene valores duplicados\n",
      "El Dataframe no tiene valores duplicados\n",
      "El Dataframe no tiene valores duplicados\n",
      "El Dataframe no tiene valores duplicados\n",
      "El Dataframe no tiene valores duplicados\n",
      "El Dataframe no tiene valores duplicados\n",
      "El Dataframe no tiene valores duplicados\n",
      "El Dataframe no tiene valores duplicados\n"
     ]
    }
   ],
   "source": [
    "print(valores_duplicados(provincia_VMD))\n",
    "print(valores_duplicados(totales_VMD))\n",
    "print(valores_duplicados(accesos_x_tecnologia))\n",
    "print(valores_duplicados(totales_accesos_x_tecnologia))\n",
    "print(valores_duplicados(dial_BAf))\n",
    "print(valores_duplicados(totales_dial_BAf))\n",
    "print(valores_duplicados(penetracion_poblacion))\n",
    "print(valores_duplicados(penetracion_hogares))\n",
    "print(valores_duplicados(penetracion_totales))\n",
    "print(valores_duplicados(totales_accesos_x_velocidad))\n",
    "print(valores_duplicados(accesos_x_velocidad))\n",
    "print(valores_duplicados(ingresos))\n"
   ]
  },
  {
   "cell_type": "markdown",
   "metadata": {},
   "source": [
    "<h2>Transformación en las columnas</h2>\n",
    "\n",
    "Em los DF que las columnas estén en dtype float los voy a pasar a int para una mayor comodidad a la hora de visaulizar. </br>\n",
    "En el DF accesos_x_tecnologia el año y el trimestre tienen un *, voy a quitarlo para poder trabajar en la unión sin inconvenientes. </br>\n",
    "En la columna de año en ingresos hay un error en un dato, en lugar de ser 2023 pone 2033 </br>\n",
    "En la culumna de año en accesos por velocidad dice año 2024 y tendría que decir año 2023. </br>"
   ]
  },
  {
   "cell_type": "code",
   "execution_count": 545,
   "metadata": {},
   "outputs": [],
   "source": [
    "accesos_x_tecnologia['Año'] = accesos_x_tecnologia['Año'].str.replace('*', '')\n",
    "accesos_x_tecnologia['Trimestre'] = accesos_x_tecnologia['Trimestre'].str.replace('*', '')\n",
    "\n",
    "accesos_x_tecnologia['Año'] = pd.to_numeric(accesos_x_tecnologia['Año'])\n",
    "accesos_x_tecnologia['Trimestre'] = pd.to_numeric(accesos_x_tecnologia['Trimestre'])\n",
    "\n",
    "col_a_mod_acc_x_tecnologia = ['ADSL','Cablemodem', 'Fibra óptica', 'Wireless', 'Otros', 'Total']\n",
    "accesos_x_tecnologia[col_a_mod_acc_x_tecnologia] = accesos_x_tecnologia[col_a_mod_acc_x_tecnologia].astype(int)\n"
   ]
  },
  {
   "cell_type": "code",
   "execution_count": 546,
   "metadata": {},
   "outputs": [],
   "source": [
    "totales_VMD = totales_VMD.drop(['Trimestre.1'], axis=1, errors='ignore')\n",
    "totales_accesos_x_tecnologia = totales_accesos_x_tecnologia.drop(['Periodo'], axis=1, errors='ignore')\n",
    "totales_dial_BAf = totales_dial_BAf.drop(['Periodo'], axis=1, errors='ignore')\n",
    "penetracion_totales = penetracion_totales.drop(['Periodo'], axis=1, errors='ignore')\n",
    "ingresos = ingresos.drop(['Periodo'], axis=1, errors='ignore')"
   ]
  },
  {
   "cell_type": "code",
   "execution_count": 547,
   "metadata": {},
   "outputs": [],
   "source": [
    "provincia_VMD = provincia_VMD.round(2)\n",
    "totales_VMD = totales_VMD.round(2)\n",
    "accesos_x_tecnologia = accesos_x_tecnologia.round(2)\n",
    "penetracion_poblacion = penetracion_poblacion.round(2)\n",
    "penetracion_hogares = penetracion_hogares.round(2)\n",
    "penetracion_totales = penetracion_totales.round(2)\n",
    "ingresos = ingresos.round(2)"
   ]
  },
  {
   "cell_type": "code",
   "execution_count": 548,
   "metadata": {},
   "outputs": [],
   "source": [
    "modificar_columnas = ['Año', 'Trimestre']\n",
    "totales_VMD[modificar_columnas] = totales_VMD[modificar_columnas].astype(int)\n",
    "ingresos[modificar_columnas] = ingresos[modificar_columnas].astype(int)"
   ]
  },
  {
   "cell_type": "code",
   "execution_count": 551,
   "metadata": {},
   "outputs": [],
   "source": [
    "dial_BAf['Dial up'] = dial_BAf['Dial up'].astype(int)\n",
    "columnas_a_modificar = ['HASTA 512 kbps',\n",
    "       '+ 512 Kbps - 1 Mbps', '+ 1 Mbps - 6 Mbps', '+ 6 Mbps - 10 Mbps',\n",
    "       '+ 10 Mbps - 20 Mbps', '+ 20 Mbps - 30 Mbps', '+ 30 Mbps', 'OTROS',\n",
    "       'Total']\n",
    "accesos_x_velocidad[columnas_a_modificar] = accesos_x_velocidad[columnas_a_modificar].round(0).astype(int)\n",
    "\n",
    "modificar_VMD = ['Año', 'Trimestre']\n",
    "ingresos[modificar_VMD] = ingresos[modificar_VMD].astype(int)"
   ]
  },
  {
   "cell_type": "code",
   "execution_count": 552,
   "metadata": {},
   "outputs": [],
   "source": [
    "ingresos.loc[ingresos['Año'] == 2033, 'Año'] = 2023\n",
    "accesos_x_velocidad.loc[accesos_x_velocidad['Año'] == 2024, 'Año'] = 2023\n",
    "totales_accesos_x_velocidad.loc[totales_accesos_x_velocidad['Año'] == 2024, 'Año'] = 2023"
   ]
  },
  {
   "cell_type": "markdown",
   "metadata": {},
   "source": [
    "<h2>Descarga Datasets Limpios</h2>"
   ]
  },
  {
   "cell_type": "code",
   "execution_count": 556,
   "metadata": {},
   "outputs": [],
   "source": [
    "provincia_VMD.to_csv('provincia_VMD.csv', index=False)\n",
    "totales_VMD.to_csv('totales_VMD.csv', index=False)\n",
    "accesos_x_tecnologia.to_csv('accesos_x_tecnologia.csv', index=False)\n",
    "dial_BAf.to_csv('dial_BAf.csv', index=False)\n",
    "totales_dial_BAf.to_csv('totales_dial_BAf.csv', index=False)\n",
    "penetracion_poblacion.to_csv('penetracion_poblacion.csv', index=False)\n",
    "penetracion_hogares.to_csv('penetracion_hogares.csv', index=False)\n",
    "penetracion_totales.to_csv('penetracion_totales.csv', index=False)\n",
    "accesos_x_velocidad.to_csv('accesos_x_velocidad.csv', index=False)\n",
    "totales_accesos_x_velocidad.to_csv('totales_accesos_x_velocidad.csv', index=False)\n",
    "ingresos.to_csv('ingresos.csv', index=False)\n",
    "totales_accesos_x_tecnologia.to_csv('totales_accesos_x_tecnologia.csv', index=False)"
   ]
  }
 ],
 "metadata": {
  "kernelspec": {
   "display_name": "Python 3",
   "language": "python",
   "name": "python3"
  },
  "language_info": {
   "codemirror_mode": {
    "name": "ipython",
    "version": 3
   },
   "file_extension": ".py",
   "mimetype": "text/x-python",
   "name": "python",
   "nbconvert_exporter": "python",
   "pygments_lexer": "ipython3",
   "version": "3.11.9"
  }
 },
 "nbformat": 4,
 "nbformat_minor": 2
}
