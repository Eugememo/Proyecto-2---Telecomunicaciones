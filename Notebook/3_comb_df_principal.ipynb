{
 "cells": [
  {
   "cell_type": "markdown",
   "metadata": {},
   "source": [
    "<h1>Combinación DFs</h1>\n",
    "\n",
    "Para poder trabajar mejor voy a convinar diferentes hojas para ir creando diferentes dataframes. "
   ]
  },
  {
   "cell_type": "markdown",
   "metadata": {},
   "source": [
    "<h2>Librerías</h2>"
   ]
  },
  {
   "cell_type": "code",
   "execution_count": 12,
   "metadata": {},
   "outputs": [],
   "source": [
    "import pandas as pd"
   ]
  },
  {
   "cell_type": "markdown",
   "metadata": {},
   "source": [
    "<h2>Carga Datos</h2>"
   ]
  },
  {
   "cell_type": "code",
   "execution_count": 13,
   "metadata": {},
   "outputs": [],
   "source": [
    "accesos_x_tecnologia = pd.read_csv('../Dataframes limpios/accesos_x_tecnologia.csv')\n",
    "accesos_x_velocidad = pd.read_csv('../Dataframes limpios/accesos_x_velocidad.csv')\n",
    "dial_BAf = pd.read_csv('../Dataframes limpios/dial_BAf.csv')\n",
    "ingresos = pd.read_csv('../Dataframes limpios/ingresos.csv')\n",
    "penetracion_hogares = pd.read_csv('../Dataframes limpios/penetracion_hogares.csv')\n",
    "penetracion_poblacion = pd.read_csv('../Dataframes limpios/penetracion_poblacion.csv')\n",
    "penetracion_totales = pd.read_csv('../Dataframes limpios/penetracion_totales.csv')\n",
    "provincia_VMD = pd.read_csv('../Dataframes limpios/provincia_VMD.csv')\n",
    "totales_accesos_x_velocidad = pd.read_csv('../Dataframes limpios/totales_accesos_x_velocidad.csv')\n",
    "totales_dial_BAf = pd.read_csv('../Dataframes limpios/totales_dial_BAf.csv')\n",
    "totales_VMD = pd.read_csv('../Dataframes limpios/totales_VMD.csv')\n",
    "totales_accesos_x_tecnologia =  pd.read_csv('../Dataframes limpios/totales_accesos_x_tecnologia.csv')\n"
   ]
  },
  {
   "cell_type": "markdown",
   "metadata": {},
   "source": [
    "<h2>Unión de DFs</h2>"
   ]
  },
  {
   "cell_type": "markdown",
   "metadata": {},
   "source": [
    "<b>- inf_provincia:</b> <br>\n",
    "Es la suma de los DFs de accesos_x_velocidad, velocidad_porcen_x_provincia, accesos_x_tecnologia, dial_BAf, penetracion_hogares y penetracion_poblacion"
   ]
  },
  {
   "cell_type": "code",
   "execution_count": 14,
   "metadata": {},
   "outputs": [],
   "source": [
    "inf_provincia = pd.merge(accesos_x_velocidad, provincia_VMD, on=['Año', 'Trimestre', 'Provincia'])\n",
    "inf_provincia.rename(columns={'OTROS': 'Otras Velocidades', 'Total': 'Total Velocidades'}, inplace=True)"
   ]
  },
  {
   "cell_type": "code",
   "execution_count": 15,
   "metadata": {},
   "outputs": [],
   "source": [
    "inf_provincia = pd.merge(inf_provincia, accesos_x_tecnologia, on=['Año', 'Trimestre', 'Provincia'])\n",
    "inf_provincia.rename(columns={'OTROS': 'Otros Accesos', 'Total': 'Total Accesos'}, inplace=True)"
   ]
  },
  {
   "cell_type": "code",
   "execution_count": 16,
   "metadata": {},
   "outputs": [],
   "source": [
    "inf_provincia = pd.merge(inf_provincia, dial_BAf, on=['Año', 'Trimestre', 'Provincia'])\n",
    "inf_provincia.rename(columns={'Total': 'Total dial_BAf'}, inplace=True)"
   ]
  },
  {
   "cell_type": "code",
   "execution_count": 17,
   "metadata": {},
   "outputs": [],
   "source": [
    "inf_provincia = pd.merge(inf_provincia, penetracion_hogares, on=['Año', 'Trimestre', 'Provincia'])"
   ]
  },
  {
   "cell_type": "code",
   "execution_count": 18,
   "metadata": {},
   "outputs": [],
   "source": [
    "inf_provincia = pd.merge(inf_provincia, penetracion_poblacion, on=['Año', 'Trimestre', 'Provincia'])"
   ]
  },
  {
   "cell_type": "code",
   "execution_count": 19,
   "metadata": {},
   "outputs": [
    {
     "data": {
      "text/html": [
       "<div>\n",
       "<style scoped>\n",
       "    .dataframe tbody tr th:only-of-type {\n",
       "        vertical-align: middle;\n",
       "    }\n",
       "\n",
       "    .dataframe tbody tr th {\n",
       "        vertical-align: top;\n",
       "    }\n",
       "\n",
       "    .dataframe thead th {\n",
       "        text-align: right;\n",
       "    }\n",
       "</style>\n",
       "<table border=\"1\" class=\"dataframe\">\n",
       "  <thead>\n",
       "    <tr style=\"text-align: right;\">\n",
       "      <th></th>\n",
       "      <th>Año</th>\n",
       "      <th>Trimestre</th>\n",
       "      <th>Provincia</th>\n",
       "      <th>HASTA 512 kbps</th>\n",
       "      <th>+ 512 Kbps - 1 Mbps</th>\n",
       "      <th>+ 1 Mbps - 6 Mbps</th>\n",
       "      <th>+ 6 Mbps - 10 Mbps</th>\n",
       "      <th>+ 10 Mbps - 20 Mbps</th>\n",
       "      <th>+ 20 Mbps - 30 Mbps</th>\n",
       "      <th>+ 30 Mbps</th>\n",
       "      <th>...</th>\n",
       "      <th>Cablemodem</th>\n",
       "      <th>Fibra óptica</th>\n",
       "      <th>Wireless</th>\n",
       "      <th>Otros</th>\n",
       "      <th>Total Accesos</th>\n",
       "      <th>Banda ancha fija</th>\n",
       "      <th>Dial up</th>\n",
       "      <th>Total dial_BAf</th>\n",
       "      <th>Accesos por cada 100 hogares</th>\n",
       "      <th>Accesos por cada 100 hab</th>\n",
       "    </tr>\n",
       "  </thead>\n",
       "  <tbody>\n",
       "    <tr>\n",
       "      <th>0</th>\n",
       "      <td>2023</td>\n",
       "      <td>4</td>\n",
       "      <td>Buenos Aires</td>\n",
       "      <td>26909</td>\n",
       "      <td>23962</td>\n",
       "      <td>228393</td>\n",
       "      <td>239339</td>\n",
       "      <td>246144</td>\n",
       "      <td>110876</td>\n",
       "      <td>4042646</td>\n",
       "      <td>...</td>\n",
       "      <td>2797700</td>\n",
       "      <td>1784593</td>\n",
       "      <td>137993</td>\n",
       "      <td>67943</td>\n",
       "      <td>5011620</td>\n",
       "      <td>5005720</td>\n",
       "      <td>5900</td>\n",
       "      <td>5011620</td>\n",
       "      <td>80.96</td>\n",
       "      <td>27.68</td>\n",
       "    </tr>\n",
       "    <tr>\n",
       "      <th>1</th>\n",
       "      <td>2023</td>\n",
       "      <td>4</td>\n",
       "      <td>Capital Federal</td>\n",
       "      <td>516</td>\n",
       "      <td>4544</td>\n",
       "      <td>26409</td>\n",
       "      <td>48083</td>\n",
       "      <td>33925</td>\n",
       "      <td>5829</td>\n",
       "      <td>1355061</td>\n",
       "      <td>...</td>\n",
       "      <td>1198835</td>\n",
       "      <td>182520</td>\n",
       "      <td>4492</td>\n",
       "      <td>29820</td>\n",
       "      <td>1474367</td>\n",
       "      <td>1472317</td>\n",
       "      <td>2050</td>\n",
       "      <td>1474367</td>\n",
       "      <td>117.02</td>\n",
       "      <td>47.80</td>\n",
       "    </tr>\n",
       "    <tr>\n",
       "      <th>2</th>\n",
       "      <td>2023</td>\n",
       "      <td>4</td>\n",
       "      <td>Catamarca</td>\n",
       "      <td>71</td>\n",
       "      <td>209</td>\n",
       "      <td>3065</td>\n",
       "      <td>3734</td>\n",
       "      <td>4423</td>\n",
       "      <td>1827</td>\n",
       "      <td>61181</td>\n",
       "      <td>...</td>\n",
       "      <td>11016</td>\n",
       "      <td>55437</td>\n",
       "      <td>1384</td>\n",
       "      <td>81</td>\n",
       "      <td>74587</td>\n",
       "      <td>74586</td>\n",
       "      <td>1</td>\n",
       "      <td>74587</td>\n",
       "      <td>68.63</td>\n",
       "      <td>17.46</td>\n",
       "    </tr>\n",
       "    <tr>\n",
       "      <th>3</th>\n",
       "      <td>2023</td>\n",
       "      <td>4</td>\n",
       "      <td>Chaco</td>\n",
       "      <td>236</td>\n",
       "      <td>477</td>\n",
       "      <td>14811</td>\n",
       "      <td>10361</td>\n",
       "      <td>6247</td>\n",
       "      <td>5729</td>\n",
       "      <td>105485</td>\n",
       "      <td>...</td>\n",
       "      <td>60277</td>\n",
       "      <td>62301</td>\n",
       "      <td>8404</td>\n",
       "      <td>2404</td>\n",
       "      <td>147386</td>\n",
       "      <td>147381</td>\n",
       "      <td>5</td>\n",
       "      <td>147386</td>\n",
       "      <td>44.35</td>\n",
       "      <td>11.85</td>\n",
       "    </tr>\n",
       "    <tr>\n",
       "      <th>4</th>\n",
       "      <td>2023</td>\n",
       "      <td>4</td>\n",
       "      <td>Chubut</td>\n",
       "      <td>111</td>\n",
       "      <td>1088</td>\n",
       "      <td>44276</td>\n",
       "      <td>31402</td>\n",
       "      <td>22843</td>\n",
       "      <td>20196</td>\n",
       "      <td>33665</td>\n",
       "      <td>...</td>\n",
       "      <td>77217</td>\n",
       "      <td>26174</td>\n",
       "      <td>30543</td>\n",
       "      <td>9930</td>\n",
       "      <td>170170</td>\n",
       "      <td>169313</td>\n",
       "      <td>857</td>\n",
       "      <td>170170</td>\n",
       "      <td>84.96</td>\n",
       "      <td>26.04</td>\n",
       "    </tr>\n",
       "  </tbody>\n",
       "</table>\n",
       "<p>5 rows × 24 columns</p>\n",
       "</div>"
      ],
      "text/plain": [
       "    Año  Trimestre        Provincia  HASTA 512 kbps  + 512 Kbps - 1 Mbps  \\\n",
       "0  2023          4     Buenos Aires           26909                23962   \n",
       "1  2023          4  Capital Federal             516                 4544   \n",
       "2  2023          4        Catamarca              71                  209   \n",
       "3  2023          4            Chaco             236                  477   \n",
       "4  2023          4           Chubut             111                 1088   \n",
       "\n",
       "   + 1 Mbps - 6 Mbps  + 6 Mbps - 10 Mbps  + 10 Mbps - 20 Mbps  \\\n",
       "0             228393              239339               246144   \n",
       "1              26409               48083                33925   \n",
       "2               3065                3734                 4423   \n",
       "3              14811               10361                 6247   \n",
       "4              44276               31402                22843   \n",
       "\n",
       "   + 20 Mbps - 30 Mbps  + 30 Mbps  ...  Cablemodem  Fibra óptica  Wireless  \\\n",
       "0               110876    4042646  ...     2797700       1784593    137993   \n",
       "1                 5829    1355061  ...     1198835        182520      4492   \n",
       "2                 1827      61181  ...       11016         55437      1384   \n",
       "3                 5729     105485  ...       60277         62301      8404   \n",
       "4                20196      33665  ...       77217         26174     30543   \n",
       "\n",
       "   Otros  Total Accesos  Banda ancha fija  Dial up  Total dial_BAf  \\\n",
       "0  67943        5011620           5005720     5900         5011620   \n",
       "1  29820        1474367           1472317     2050         1474367   \n",
       "2     81          74587             74586        1           74587   \n",
       "3   2404         147386            147381        5          147386   \n",
       "4   9930         170170            169313      857          170170   \n",
       "\n",
       "   Accesos por cada 100 hogares  Accesos por cada 100 hab  \n",
       "0                         80.96                     27.68  \n",
       "1                        117.02                     47.80  \n",
       "2                         68.63                     17.46  \n",
       "3                         44.35                     11.85  \n",
       "4                         84.96                     26.04  \n",
       "\n",
       "[5 rows x 24 columns]"
      ]
     },
     "execution_count": 19,
     "metadata": {},
     "output_type": "execute_result"
    }
   ],
   "source": [
    "inf_provincia.head(5)"
   ]
  },
  {
   "cell_type": "code",
   "execution_count": 28,
   "metadata": {},
   "outputs": [
    {
     "data": {
      "text/plain": [
       "Index(['Año', 'Trimestre', 'Provincia', 'HASTA 512 kbps',\n",
       "       '+ 512 Kbps - 1 Mbps', '+ 1 Mbps - 6 Mbps', '+ 6 Mbps - 10 Mbps',\n",
       "       '+ 10 Mbps - 20 Mbps', '+ 20 Mbps - 30 Mbps', '+ 30 Mbps',\n",
       "       'Otras Velocidades', 'Total Velocidades', 'Mbps (Media de bajada)',\n",
       "       'ADSL', 'Cablemodem', 'Fibra óptica', 'Wireless', 'Otros',\n",
       "       'Total Accesos', 'Banda ancha fija', 'Dial up', 'Total dial_BAf',\n",
       "       'Accesos por cada 100 hogares', 'Accesos por cada 100 hab'],\n",
       "      dtype='object')"
      ]
     },
     "execution_count": 28,
     "metadata": {},
     "output_type": "execute_result"
    }
   ],
   "source": [
    "inf_provincia.columns"
   ]
  },
  {
   "cell_type": "markdown",
   "metadata": {},
   "source": [
    "<b>- inf_nacional:</b> <br>\n",
    "Es la suma de los DFs de totales_accesos_x_velocidad, totales_VMD, totales_accesos_x_tecnologia, totales_dial_BAf, penetracion_totales, ingresos"
   ]
  },
  {
   "cell_type": "code",
   "execution_count": 20,
   "metadata": {},
   "outputs": [],
   "source": [
    "inf_nacional = pd.merge(totales_accesos_x_velocidad, totales_VMD, on=['Año', 'Trimestre'])\n",
    "inf_nacional.rename(columns={'OTROS': 'Otras Velocidades', 'Total': 'Total Velocidades'}, inplace=True)"
   ]
  },
  {
   "cell_type": "code",
   "execution_count": 22,
   "metadata": {},
   "outputs": [],
   "source": [
    "inf_nacional = pd.merge(inf_nacional, totales_accesos_x_tecnologia, on=['Año', 'Trimestre'])\n",
    "inf_nacional.rename(columns={'OTROS': 'Otros Accesos', 'Total': 'Total Accesos'}, inplace=True)"
   ]
  },
  {
   "cell_type": "code",
   "execution_count": 23,
   "metadata": {},
   "outputs": [],
   "source": [
    "inf_nacional = pd.merge(inf_nacional, totales_dial_BAf, on=['Año', 'Trimestre'])\n",
    "inf_nacional.rename(columns={'Total': 'Total dial_BAf'}, inplace=True)"
   ]
  },
  {
   "cell_type": "code",
   "execution_count": 24,
   "metadata": {},
   "outputs": [],
   "source": [
    "inf_nacional = pd.merge(inf_nacional, penetracion_totales, on=['Año', 'Trimestre'])"
   ]
  },
  {
   "cell_type": "code",
   "execution_count": 25,
   "metadata": {},
   "outputs": [],
   "source": [
    "inf_nacional = pd.merge(inf_nacional, ingresos, on=['Año', 'Trimestre'])"
   ]
  },
  {
   "cell_type": "code",
   "execution_count": 26,
   "metadata": {},
   "outputs": [
    {
     "data": {
      "text/html": [
       "<div>\n",
       "<style scoped>\n",
       "    .dataframe tbody tr th:only-of-type {\n",
       "        vertical-align: middle;\n",
       "    }\n",
       "\n",
       "    .dataframe tbody tr th {\n",
       "        vertical-align: top;\n",
       "    }\n",
       "\n",
       "    .dataframe thead th {\n",
       "        text-align: right;\n",
       "    }\n",
       "</style>\n",
       "<table border=\"1\" class=\"dataframe\">\n",
       "  <thead>\n",
       "    <tr style=\"text-align: right;\">\n",
       "      <th></th>\n",
       "      <th>Año</th>\n",
       "      <th>Trimestre</th>\n",
       "      <th>Hasta 512 kbps</th>\n",
       "      <th>Entre 512 Kbps y 1 Mbps</th>\n",
       "      <th>Entre 1 Mbps y 6 Mbps</th>\n",
       "      <th>Entre 6 Mbps y 10 Mbps</th>\n",
       "      <th>Entre 10 Mbps y 20 Mbps</th>\n",
       "      <th>Entre 20 Mbps y 30 Mbps</th>\n",
       "      <th>Más de 30 Mbps</th>\n",
       "      <th>Otras Velocidades</th>\n",
       "      <th>...</th>\n",
       "      <th>Fibra óptica</th>\n",
       "      <th>Wireless</th>\n",
       "      <th>Otros</th>\n",
       "      <th>Total Accesos</th>\n",
       "      <th>Banda ancha fija</th>\n",
       "      <th>Dial up</th>\n",
       "      <th>Total dial_BAf</th>\n",
       "      <th>Accesos por cada 100 hogares</th>\n",
       "      <th>Accesos por cada 100 hab</th>\n",
       "      <th>Ingresos (miles de pesos)</th>\n",
       "    </tr>\n",
       "  </thead>\n",
       "  <tbody>\n",
       "    <tr>\n",
       "      <th>0</th>\n",
       "      <td>2023</td>\n",
       "      <td>4</td>\n",
       "      <td>29708</td>\n",
       "      <td>71742</td>\n",
       "      <td>900253</td>\n",
       "      <td>978108</td>\n",
       "      <td>697232</td>\n",
       "      <td>350290</td>\n",
       "      <td>8224736</td>\n",
       "      <td>295592</td>\n",
       "      <td>...</td>\n",
       "      <td>3908183</td>\n",
       "      <td>585760</td>\n",
       "      <td>194796</td>\n",
       "      <td>11547661</td>\n",
       "      <td>11535868</td>\n",
       "      <td>11793</td>\n",
       "      <td>11547661</td>\n",
       "      <td>78.56</td>\n",
       "      <td>24.66</td>\n",
       "      <td>1.673760e+08</td>\n",
       "    </tr>\n",
       "    <tr>\n",
       "      <th>1</th>\n",
       "      <td>2023</td>\n",
       "      <td>3</td>\n",
       "      <td>30274</td>\n",
       "      <td>80609</td>\n",
       "      <td>945608</td>\n",
       "      <td>998725</td>\n",
       "      <td>720084</td>\n",
       "      <td>350918</td>\n",
       "      <td>8003269</td>\n",
       "      <td>277421</td>\n",
       "      <td>...</td>\n",
       "      <td>3708718</td>\n",
       "      <td>581436</td>\n",
       "      <td>200027</td>\n",
       "      <td>11406908</td>\n",
       "      <td>11395115</td>\n",
       "      <td>11793</td>\n",
       "      <td>11406908</td>\n",
       "      <td>77.84</td>\n",
       "      <td>24.41</td>\n",
       "      <td>1.331066e+08</td>\n",
       "    </tr>\n",
       "    <tr>\n",
       "      <th>2</th>\n",
       "      <td>2023</td>\n",
       "      <td>2</td>\n",
       "      <td>30827</td>\n",
       "      <td>79405</td>\n",
       "      <td>963510</td>\n",
       "      <td>1028250</td>\n",
       "      <td>734125</td>\n",
       "      <td>364730</td>\n",
       "      <td>7775095</td>\n",
       "      <td>275955</td>\n",
       "      <td>...</td>\n",
       "      <td>3463988</td>\n",
       "      <td>581823</td>\n",
       "      <td>202428</td>\n",
       "      <td>11251897</td>\n",
       "      <td>11239781</td>\n",
       "      <td>12116</td>\n",
       "      <td>11251897</td>\n",
       "      <td>77.02</td>\n",
       "      <td>24.14</td>\n",
       "      <td>1.180603e+08</td>\n",
       "    </tr>\n",
       "    <tr>\n",
       "      <th>3</th>\n",
       "      <td>2023</td>\n",
       "      <td>1</td>\n",
       "      <td>31437</td>\n",
       "      <td>82048</td>\n",
       "      <td>1001553</td>\n",
       "      <td>1060321</td>\n",
       "      <td>729194</td>\n",
       "      <td>357769</td>\n",
       "      <td>7564819</td>\n",
       "      <td>414754</td>\n",
       "      <td>...</td>\n",
       "      <td>3243411</td>\n",
       "      <td>576647</td>\n",
       "      <td>214838</td>\n",
       "      <td>11241895</td>\n",
       "      <td>11229459</td>\n",
       "      <td>12436</td>\n",
       "      <td>11241895</td>\n",
       "      <td>77.20</td>\n",
       "      <td>24.17</td>\n",
       "      <td>1.041350e+08</td>\n",
       "    </tr>\n",
       "    <tr>\n",
       "      <th>4</th>\n",
       "      <td>2022</td>\n",
       "      <td>4</td>\n",
       "      <td>31981</td>\n",
       "      <td>85668</td>\n",
       "      <td>1075272</td>\n",
       "      <td>1109421</td>\n",
       "      <td>765015</td>\n",
       "      <td>335573</td>\n",
       "      <td>7410902</td>\n",
       "      <td>394282</td>\n",
       "      <td>...</td>\n",
       "      <td>3060575</td>\n",
       "      <td>572969</td>\n",
       "      <td>221740</td>\n",
       "      <td>11208114</td>\n",
       "      <td>11195668</td>\n",
       "      <td>12446</td>\n",
       "      <td>11208114</td>\n",
       "      <td>77.21</td>\n",
       "      <td>24.15</td>\n",
       "      <td>7.244348e+07</td>\n",
       "    </tr>\n",
       "  </tbody>\n",
       "</table>\n",
       "<p>5 rows × 24 columns</p>\n",
       "</div>"
      ],
      "text/plain": [
       "    Año  Trimestre  Hasta 512 kbps  Entre 512 Kbps y 1 Mbps  \\\n",
       "0  2023          4           29708                    71742   \n",
       "1  2023          3           30274                    80609   \n",
       "2  2023          2           30827                    79405   \n",
       "3  2023          1           31437                    82048   \n",
       "4  2022          4           31981                    85668   \n",
       "\n",
       "   Entre 1 Mbps y 6 Mbps  Entre 6 Mbps y 10 Mbps  Entre 10 Mbps y 20 Mbps  \\\n",
       "0                 900253                  978108                   697232   \n",
       "1                 945608                  998725                   720084   \n",
       "2                 963510                 1028250                   734125   \n",
       "3                1001553                 1060321                   729194   \n",
       "4                1075272                 1109421                   765015   \n",
       "\n",
       "   Entre 20 Mbps y 30 Mbps  Más de 30 Mbps  Otras Velocidades  ...  \\\n",
       "0                   350290         8224736             295592  ...   \n",
       "1                   350918         8003269             277421  ...   \n",
       "2                   364730         7775095             275955  ...   \n",
       "3                   357769         7564819             414754  ...   \n",
       "4                   335573         7410902             394282  ...   \n",
       "\n",
       "   Fibra óptica  Wireless   Otros  Total Accesos  Banda ancha fija  Dial up  \\\n",
       "0       3908183    585760  194796       11547661          11535868    11793   \n",
       "1       3708718    581436  200027       11406908          11395115    11793   \n",
       "2       3463988    581823  202428       11251897          11239781    12116   \n",
       "3       3243411    576647  214838       11241895          11229459    12436   \n",
       "4       3060575    572969  221740       11208114          11195668    12446   \n",
       "\n",
       "   Total dial_BAf  Accesos por cada 100 hogares  Accesos por cada 100 hab  \\\n",
       "0        11547661                         78.56                     24.66   \n",
       "1        11406908                         77.84                     24.41   \n",
       "2        11251897                         77.02                     24.14   \n",
       "3        11241895                         77.20                     24.17   \n",
       "4        11208114                         77.21                     24.15   \n",
       "\n",
       "   Ingresos (miles de pesos)  \n",
       "0               1.673760e+08  \n",
       "1               1.331066e+08  \n",
       "2               1.180603e+08  \n",
       "3               1.041350e+08  \n",
       "4               7.244348e+07  \n",
       "\n",
       "[5 rows x 24 columns]"
      ]
     },
     "execution_count": 26,
     "metadata": {},
     "output_type": "execute_result"
    }
   ],
   "source": [
    "inf_nacional.head(5)"
   ]
  },
  {
   "cell_type": "code",
   "execution_count": 27,
   "metadata": {},
   "outputs": [
    {
     "data": {
      "text/plain": [
       "Index(['Año', 'Trimestre', 'Hasta 512 kbps', 'Entre 512 Kbps y 1 Mbps',\n",
       "       'Entre 1 Mbps y 6 Mbps', 'Entre 6 Mbps y 10 Mbps',\n",
       "       'Entre 10 Mbps y 20 Mbps', 'Entre 20 Mbps y 30 Mbps', 'Más de 30 Mbps',\n",
       "       'Otras Velocidades', 'Total Velocidades', 'Mbps (Media de bajada)',\n",
       "       'ADSL', 'Cablemodem', 'Fibra óptica', 'Wireless', 'Otros',\n",
       "       'Total Accesos', 'Banda ancha fija', 'Dial up', 'Total dial_BAf',\n",
       "       'Accesos por cada 100 hogares', 'Accesos por cada 100 hab',\n",
       "       'Ingresos (miles de pesos)'],\n",
       "      dtype='object')"
      ]
     },
     "execution_count": 27,
     "metadata": {},
     "output_type": "execute_result"
    }
   ],
   "source": [
    "inf_nacional.columns"
   ]
  },
  {
   "cell_type": "markdown",
   "metadata": {},
   "source": [
    "<h2>Descarga DF Combinados</h2>"
   ]
  },
  {
   "cell_type": "code",
   "execution_count": 29,
   "metadata": {},
   "outputs": [],
   "source": [
    "inf_provincia.to_csv('inf_provincia.csv', index=False)\n",
    "inf_nacional.to_csv('inf_nacional.csv', index=False)"
   ]
  }
 ],
 "metadata": {
  "kernelspec": {
   "display_name": "Python 3",
   "language": "python",
   "name": "python3"
  },
  "language_info": {
   "codemirror_mode": {
    "name": "ipython",
    "version": 3
   },
   "file_extension": ".py",
   "mimetype": "text/x-python",
   "name": "python",
   "nbconvert_exporter": "python",
   "pygments_lexer": "ipython3",
   "version": "3.11.9"
  }
 },
 "nbformat": 4,
 "nbformat_minor": 2
}
